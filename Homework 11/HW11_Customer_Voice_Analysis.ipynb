{
  "nbformat": 4,
  "nbformat_minor": 0,
  "metadata": {
    "colab": {
      "name": "HW11_Customer Voice Analysis.ipynb",
      "provenance": []
    },
    "kernelspec": {
      "name": "python3",
      "display_name": "Python 3"
    }
  },
  "cells": [
    {
      "cell_type": "markdown",
      "metadata": {
        "id": "kaAZjbXqBKxt"
      },
      "source": [
        "## **Load libraries and data**"
      ]
    },
    {
      "cell_type": "code",
      "metadata": {
        "id": "_pJtf54KNodh",
        "colab": {
          "base_uri": "https://localhost:8080/"
        },
        "outputId": "fd25d9bc-b683-4084-bb2e-204c2b2ac559"
      },
      "source": [
        "!pip install --upgrade pythainlp\n",
        "!pip install pyLDAvis\n",
        "!pip install -U pandas-profiling\n",
        "!pip install sefr_cut"
      ],
      "execution_count": null,
      "outputs": [
        {
          "output_type": "stream",
          "text": [
            "Requirement already up-to-date: pythainlp in /usr/local/lib/python3.7/dist-packages (2.3.1)\n",
            "Requirement already satisfied, skipping upgrade: tinydb>=3.0 in /usr/local/lib/python3.7/dist-packages (from pythainlp) (4.4.0)\n",
            "Requirement already satisfied, skipping upgrade: requests>=2.22.0 in /usr/local/lib/python3.7/dist-packages (from pythainlp) (2.25.1)\n",
            "Requirement already satisfied, skipping upgrade: python-crfsuite>=0.9.6 in /usr/local/lib/python3.7/dist-packages (from pythainlp) (0.9.7)\n",
            "Requirement already satisfied, skipping upgrade: chardet<5,>=3.0.2 in /usr/local/lib/python3.7/dist-packages (from requests>=2.22.0->pythainlp) (3.0.4)\n",
            "Requirement already satisfied, skipping upgrade: idna<3,>=2.5 in /usr/local/lib/python3.7/dist-packages (from requests>=2.22.0->pythainlp) (2.10)\n",
            "Requirement already satisfied, skipping upgrade: urllib3<1.27,>=1.21.1 in /usr/local/lib/python3.7/dist-packages (from requests>=2.22.0->pythainlp) (1.24.3)\n",
            "Requirement already satisfied, skipping upgrade: certifi>=2017.4.17 in /usr/local/lib/python3.7/dist-packages (from requests>=2.22.0->pythainlp) (2020.12.5)\n",
            "Requirement already satisfied: pyLDAvis in /usr/local/lib/python3.7/dist-packages (3.3.1)\n",
            "Requirement already satisfied: pandas>=1.2.0 in /usr/local/lib/python3.7/dist-packages (from pyLDAvis) (1.2.4)\n",
            "Requirement already satisfied: funcy in /usr/local/lib/python3.7/dist-packages (from pyLDAvis) (1.16)\n",
            "Requirement already satisfied: gensim in /usr/local/lib/python3.7/dist-packages (from pyLDAvis) (3.6.0)\n",
            "Requirement already satisfied: scikit-learn in /usr/local/lib/python3.7/dist-packages (from pyLDAvis) (0.22.2.post1)\n",
            "Requirement already satisfied: setuptools in /usr/local/lib/python3.7/dist-packages (from pyLDAvis) (57.0.0)\n",
            "Requirement already satisfied: numexpr in /usr/local/lib/python3.7/dist-packages (from pyLDAvis) (2.7.3)\n",
            "Requirement already satisfied: jinja2 in /usr/local/lib/python3.7/dist-packages (from pyLDAvis) (2.11.3)\n",
            "Requirement already satisfied: joblib in /usr/local/lib/python3.7/dist-packages (from pyLDAvis) (1.0.1)\n",
            "Requirement already satisfied: scipy in /usr/local/lib/python3.7/dist-packages (from pyLDAvis) (1.4.1)\n",
            "Requirement already satisfied: future in /usr/local/lib/python3.7/dist-packages (from pyLDAvis) (0.16.0)\n",
            "Requirement already satisfied: sklearn in /usr/local/lib/python3.7/dist-packages (from pyLDAvis) (0.0)\n",
            "Requirement already satisfied: numpy>=1.20.0 in /usr/local/lib/python3.7/dist-packages (from pyLDAvis) (1.20.3)\n",
            "Requirement already satisfied: pytz>=2017.3 in /usr/local/lib/python3.7/dist-packages (from pandas>=1.2.0->pyLDAvis) (2018.9)\n",
            "Requirement already satisfied: python-dateutil>=2.7.3 in /usr/local/lib/python3.7/dist-packages (from pandas>=1.2.0->pyLDAvis) (2.8.1)\n",
            "Requirement already satisfied: six>=1.5.0 in /usr/local/lib/python3.7/dist-packages (from gensim->pyLDAvis) (1.15.0)\n",
            "Requirement already satisfied: smart-open>=1.2.1 in /usr/local/lib/python3.7/dist-packages (from gensim->pyLDAvis) (5.0.0)\n",
            "Requirement already satisfied: MarkupSafe>=0.23 in /usr/local/lib/python3.7/dist-packages (from jinja2->pyLDAvis) (2.0.1)\n",
            "Requirement already up-to-date: pandas-profiling in /usr/local/lib/python3.7/dist-packages (3.0.0)\n",
            "Requirement already satisfied, skipping upgrade: jinja2>=2.11.1 in /usr/local/lib/python3.7/dist-packages (from pandas-profiling) (2.11.3)\n",
            "Requirement already satisfied, skipping upgrade: matplotlib>=3.2.0 in /usr/local/lib/python3.7/dist-packages (from pandas-profiling) (3.2.2)\n",
            "Requirement already satisfied, skipping upgrade: pydantic>=1.8.1 in /usr/local/lib/python3.7/dist-packages (from pandas-profiling) (1.8.2)\n",
            "Requirement already satisfied, skipping upgrade: seaborn>=0.10.1 in /usr/local/lib/python3.7/dist-packages (from pandas-profiling) (0.11.1)\n",
            "Requirement already satisfied, skipping upgrade: tqdm>=4.48.2 in /usr/local/lib/python3.7/dist-packages (from pandas-profiling) (4.61.0)\n",
            "Requirement already satisfied, skipping upgrade: htmlmin>=0.1.12 in /usr/local/lib/python3.7/dist-packages (from pandas-profiling) (0.1.12)\n",
            "Requirement already satisfied, skipping upgrade: PyYAML>=5.0.0 in /usr/local/lib/python3.7/dist-packages (from pandas-profiling) (5.4.1)\n",
            "Requirement already satisfied, skipping upgrade: requests>=2.24.0 in /usr/local/lib/python3.7/dist-packages (from pandas-profiling) (2.25.1)\n",
            "Requirement already satisfied, skipping upgrade: joblib in /usr/local/lib/python3.7/dist-packages (from pandas-profiling) (1.0.1)\n",
            "Requirement already satisfied, skipping upgrade: numpy>=1.16.0 in /usr/local/lib/python3.7/dist-packages (from pandas-profiling) (1.20.3)\n",
            "Requirement already satisfied, skipping upgrade: missingno>=0.4.2 in /usr/local/lib/python3.7/dist-packages (from pandas-profiling) (0.4.2)\n",
            "Requirement already satisfied, skipping upgrade: pandas!=1.0.0,!=1.0.1,!=1.0.2,!=1.1.0,>=0.25.3 in /usr/local/lib/python3.7/dist-packages (from pandas-profiling) (1.2.4)\n",
            "Requirement already satisfied, skipping upgrade: phik>=0.11.1 in /usr/local/lib/python3.7/dist-packages (from pandas-profiling) (0.11.2)\n",
            "Requirement already satisfied, skipping upgrade: visions[type_image_path]==0.7.1 in /usr/local/lib/python3.7/dist-packages (from pandas-profiling) (0.7.1)\n",
            "Requirement already satisfied, skipping upgrade: tangled-up-in-unicode==0.1.0 in /usr/local/lib/python3.7/dist-packages (from pandas-profiling) (0.1.0)\n",
            "Requirement already satisfied, skipping upgrade: scipy>=1.4.1 in /usr/local/lib/python3.7/dist-packages (from pandas-profiling) (1.4.1)\n",
            "Requirement already satisfied, skipping upgrade: MarkupSafe>=0.23 in /usr/local/lib/python3.7/dist-packages (from jinja2>=2.11.1->pandas-profiling) (2.0.1)\n",
            "Requirement already satisfied, skipping upgrade: pyparsing!=2.0.4,!=2.1.2,!=2.1.6,>=2.0.1 in /usr/local/lib/python3.7/dist-packages (from matplotlib>=3.2.0->pandas-profiling) (2.4.7)\n",
            "Requirement already satisfied, skipping upgrade: python-dateutil>=2.1 in /usr/local/lib/python3.7/dist-packages (from matplotlib>=3.2.0->pandas-profiling) (2.8.1)\n",
            "Requirement already satisfied, skipping upgrade: cycler>=0.10 in /usr/local/lib/python3.7/dist-packages (from matplotlib>=3.2.0->pandas-profiling) (0.10.0)\n",
            "Requirement already satisfied, skipping upgrade: kiwisolver>=1.0.1 in /usr/local/lib/python3.7/dist-packages (from matplotlib>=3.2.0->pandas-profiling) (1.3.1)\n",
            "Requirement already satisfied, skipping upgrade: typing-extensions>=3.7.4.3 in /usr/local/lib/python3.7/dist-packages (from pydantic>=1.8.1->pandas-profiling) (3.7.4.3)\n",
            "Requirement already satisfied, skipping upgrade: urllib3<1.27,>=1.21.1 in /usr/local/lib/python3.7/dist-packages (from requests>=2.24.0->pandas-profiling) (1.24.3)\n",
            "Requirement already satisfied, skipping upgrade: certifi>=2017.4.17 in /usr/local/lib/python3.7/dist-packages (from requests>=2.24.0->pandas-profiling) (2020.12.5)\n",
            "Requirement already satisfied, skipping upgrade: idna<3,>=2.5 in /usr/local/lib/python3.7/dist-packages (from requests>=2.24.0->pandas-profiling) (2.10)\n",
            "Requirement already satisfied, skipping upgrade: chardet<5,>=3.0.2 in /usr/local/lib/python3.7/dist-packages (from requests>=2.24.0->pandas-profiling) (3.0.4)\n",
            "Requirement already satisfied, skipping upgrade: pytz>=2017.3 in /usr/local/lib/python3.7/dist-packages (from pandas!=1.0.0,!=1.0.1,!=1.0.2,!=1.1.0,>=0.25.3->pandas-profiling) (2018.9)\n",
            "Requirement already satisfied, skipping upgrade: multimethod==1.4 in /usr/local/lib/python3.7/dist-packages (from visions[type_image_path]==0.7.1->pandas-profiling) (1.4)\n",
            "Requirement already satisfied, skipping upgrade: bottleneck in /usr/local/lib/python3.7/dist-packages (from visions[type_image_path]==0.7.1->pandas-profiling) (1.3.2)\n",
            "Requirement already satisfied, skipping upgrade: networkx>=2.4 in /usr/local/lib/python3.7/dist-packages (from visions[type_image_path]==0.7.1->pandas-profiling) (2.5.1)\n",
            "Requirement already satisfied, skipping upgrade: attrs>=19.3.0 in /usr/local/lib/python3.7/dist-packages (from visions[type_image_path]==0.7.1->pandas-profiling) (21.2.0)\n",
            "Requirement already satisfied, skipping upgrade: imagehash; extra == \"type_image_path\" in /usr/local/lib/python3.7/dist-packages (from visions[type_image_path]==0.7.1->pandas-profiling) (4.2.0)\n",
            "Requirement already satisfied, skipping upgrade: Pillow; extra == \"type_image_path\" in /usr/local/lib/python3.7/dist-packages (from visions[type_image_path]==0.7.1->pandas-profiling) (7.1.2)\n",
            "Requirement already satisfied, skipping upgrade: six>=1.5 in /usr/local/lib/python3.7/dist-packages (from python-dateutil>=2.1->matplotlib>=3.2.0->pandas-profiling) (1.15.0)\n",
            "Requirement already satisfied, skipping upgrade: decorator<5,>=4.3 in /usr/local/lib/python3.7/dist-packages (from networkx>=2.4->visions[type_image_path]==0.7.1->pandas-profiling) (4.4.2)\n",
            "Requirement already satisfied, skipping upgrade: PyWavelets in /usr/local/lib/python3.7/dist-packages (from imagehash; extra == \"type_image_path\"->visions[type_image_path]==0.7.1->pandas-profiling) (1.1.1)\n",
            "Requirement already satisfied: sefr_cut in /usr/local/lib/python3.7/dist-packages (1.1)\n",
            "Requirement already satisfied: pyahocorasick in /usr/local/lib/python3.7/dist-packages (from sefr_cut) (1.4.2)\n",
            "Requirement already satisfied: tensorflow>=2.0.0 in /usr/local/lib/python3.7/dist-packages (from sefr_cut) (2.5.0)\n",
            "Requirement already satisfied: pandas in /usr/local/lib/python3.7/dist-packages (from sefr_cut) (1.2.4)\n",
            "Requirement already satisfied: scikit-learn in /usr/local/lib/python3.7/dist-packages (from sefr_cut) (0.22.2.post1)\n",
            "Requirement already satisfied: scipy in /usr/local/lib/python3.7/dist-packages (from sefr_cut) (1.4.1)\n",
            "Requirement already satisfied: python-crfsuite in /usr/local/lib/python3.7/dist-packages (from sefr_cut) (0.9.7)\n",
            "Requirement already satisfied: numpy in /usr/local/lib/python3.7/dist-packages (from sefr_cut) (1.20.3)\n",
            "Requirement already satisfied: tensorflow-estimator<2.6.0,>=2.5.0rc0 in /usr/local/lib/python3.7/dist-packages (from tensorflow>=2.0.0->sefr_cut) (2.5.0)\n",
            "Requirement already satisfied: protobuf>=3.9.2 in /usr/local/lib/python3.7/dist-packages (from tensorflow>=2.0.0->sefr_cut) (3.12.4)\n",
            "Requirement already satisfied: keras-nightly~=2.5.0.dev in /usr/local/lib/python3.7/dist-packages (from tensorflow>=2.0.0->sefr_cut) (2.5.0.dev2021032900)\n",
            "Requirement already satisfied: absl-py~=0.10 in /usr/local/lib/python3.7/dist-packages (from tensorflow>=2.0.0->sefr_cut) (0.12.0)\n",
            "Requirement already satisfied: opt-einsum~=3.3.0 in /usr/local/lib/python3.7/dist-packages (from tensorflow>=2.0.0->sefr_cut) (3.3.0)\n",
            "Requirement already satisfied: astunparse~=1.6.3 in /usr/local/lib/python3.7/dist-packages (from tensorflow>=2.0.0->sefr_cut) (1.6.3)\n",
            "Requirement already satisfied: six~=1.15.0 in /usr/local/lib/python3.7/dist-packages (from tensorflow>=2.0.0->sefr_cut) (1.15.0)\n",
            "Requirement already satisfied: termcolor~=1.1.0 in /usr/local/lib/python3.7/dist-packages (from tensorflow>=2.0.0->sefr_cut) (1.1.0)\n",
            "Requirement already satisfied: gast==0.4.0 in /usr/local/lib/python3.7/dist-packages (from tensorflow>=2.0.0->sefr_cut) (0.4.0)\n",
            "Requirement already satisfied: typing-extensions~=3.7.4 in /usr/local/lib/python3.7/dist-packages (from tensorflow>=2.0.0->sefr_cut) (3.7.4.3)\n",
            "Requirement already satisfied: wrapt~=1.12.1 in /usr/local/lib/python3.7/dist-packages (from tensorflow>=2.0.0->sefr_cut) (1.12.1)\n",
            "Requirement already satisfied: google-pasta~=0.2 in /usr/local/lib/python3.7/dist-packages (from tensorflow>=2.0.0->sefr_cut) (0.2.0)\n",
            "Requirement already satisfied: tensorboard~=2.5 in /usr/local/lib/python3.7/dist-packages (from tensorflow>=2.0.0->sefr_cut) (2.5.0)\n",
            "Requirement already satisfied: flatbuffers~=1.12.0 in /usr/local/lib/python3.7/dist-packages (from tensorflow>=2.0.0->sefr_cut) (1.12)\n",
            "Requirement already satisfied: wheel~=0.35 in /usr/local/lib/python3.7/dist-packages (from tensorflow>=2.0.0->sefr_cut) (0.36.2)\n",
            "Requirement already satisfied: keras-preprocessing~=1.1.2 in /usr/local/lib/python3.7/dist-packages (from tensorflow>=2.0.0->sefr_cut) (1.1.2)\n",
            "Requirement already satisfied: h5py~=3.1.0 in /usr/local/lib/python3.7/dist-packages (from tensorflow>=2.0.0->sefr_cut) (3.1.0)\n",
            "Requirement already satisfied: grpcio~=1.34.0 in /usr/local/lib/python3.7/dist-packages (from tensorflow>=2.0.0->sefr_cut) (1.34.1)\n",
            "Requirement already satisfied: pytz>=2017.3 in /usr/local/lib/python3.7/dist-packages (from pandas->sefr_cut) (2018.9)\n",
            "Requirement already satisfied: python-dateutil>=2.7.3 in /usr/local/lib/python3.7/dist-packages (from pandas->sefr_cut) (2.8.1)\n",
            "Requirement already satisfied: joblib>=0.11 in /usr/local/lib/python3.7/dist-packages (from scikit-learn->sefr_cut) (1.0.1)\n",
            "Requirement already satisfied: setuptools in /usr/local/lib/python3.7/dist-packages (from protobuf>=3.9.2->tensorflow>=2.0.0->sefr_cut) (57.0.0)\n",
            "Requirement already satisfied: tensorboard-plugin-wit>=1.6.0 in /usr/local/lib/python3.7/dist-packages (from tensorboard~=2.5->tensorflow>=2.0.0->sefr_cut) (1.8.0)\n",
            "Requirement already satisfied: tensorboard-data-server<0.7.0,>=0.6.0 in /usr/local/lib/python3.7/dist-packages (from tensorboard~=2.5->tensorflow>=2.0.0->sefr_cut) (0.6.1)\n",
            "Requirement already satisfied: markdown>=2.6.8 in /usr/local/lib/python3.7/dist-packages (from tensorboard~=2.5->tensorflow>=2.0.0->sefr_cut) (3.3.4)\n",
            "Requirement already satisfied: google-auth<2,>=1.6.3 in /usr/local/lib/python3.7/dist-packages (from tensorboard~=2.5->tensorflow>=2.0.0->sefr_cut) (1.30.0)\n",
            "Requirement already satisfied: requests<3,>=2.21.0 in /usr/local/lib/python3.7/dist-packages (from tensorboard~=2.5->tensorflow>=2.0.0->sefr_cut) (2.25.1)\n",
            "Requirement already satisfied: werkzeug>=0.11.15 in /usr/local/lib/python3.7/dist-packages (from tensorboard~=2.5->tensorflow>=2.0.0->sefr_cut) (1.0.1)\n",
            "Requirement already satisfied: google-auth-oauthlib<0.5,>=0.4.1 in /usr/local/lib/python3.7/dist-packages (from tensorboard~=2.5->tensorflow>=2.0.0->sefr_cut) (0.4.4)\n",
            "Requirement already satisfied: cached-property; python_version < \"3.8\" in /usr/local/lib/python3.7/dist-packages (from h5py~=3.1.0->tensorflow>=2.0.0->sefr_cut) (1.5.2)\n",
            "Requirement already satisfied: importlib-metadata; python_version < \"3.8\" in /usr/local/lib/python3.7/dist-packages (from markdown>=2.6.8->tensorboard~=2.5->tensorflow>=2.0.0->sefr_cut) (4.0.1)\n",
            "Requirement already satisfied: pyasn1-modules>=0.2.1 in /usr/local/lib/python3.7/dist-packages (from google-auth<2,>=1.6.3->tensorboard~=2.5->tensorflow>=2.0.0->sefr_cut) (0.2.8)\n",
            "Requirement already satisfied: cachetools<5.0,>=2.0.0 in /usr/local/lib/python3.7/dist-packages (from google-auth<2,>=1.6.3->tensorboard~=2.5->tensorflow>=2.0.0->sefr_cut) (4.2.2)\n",
            "Requirement already satisfied: rsa<5,>=3.1.4; python_version >= \"3.6\" in /usr/local/lib/python3.7/dist-packages (from google-auth<2,>=1.6.3->tensorboard~=2.5->tensorflow>=2.0.0->sefr_cut) (4.7.2)\n",
            "Requirement already satisfied: idna<3,>=2.5 in /usr/local/lib/python3.7/dist-packages (from requests<3,>=2.21.0->tensorboard~=2.5->tensorflow>=2.0.0->sefr_cut) (2.10)\n",
            "Requirement already satisfied: certifi>=2017.4.17 in /usr/local/lib/python3.7/dist-packages (from requests<3,>=2.21.0->tensorboard~=2.5->tensorflow>=2.0.0->sefr_cut) (2020.12.5)\n",
            "Requirement already satisfied: chardet<5,>=3.0.2 in /usr/local/lib/python3.7/dist-packages (from requests<3,>=2.21.0->tensorboard~=2.5->tensorflow>=2.0.0->sefr_cut) (3.0.4)\n",
            "Requirement already satisfied: urllib3<1.27,>=1.21.1 in /usr/local/lib/python3.7/dist-packages (from requests<3,>=2.21.0->tensorboard~=2.5->tensorflow>=2.0.0->sefr_cut) (1.24.3)\n",
            "Requirement already satisfied: requests-oauthlib>=0.7.0 in /usr/local/lib/python3.7/dist-packages (from google-auth-oauthlib<0.5,>=0.4.1->tensorboard~=2.5->tensorflow>=2.0.0->sefr_cut) (1.3.0)\n",
            "Requirement already satisfied: zipp>=0.5 in /usr/local/lib/python3.7/dist-packages (from importlib-metadata; python_version < \"3.8\"->markdown>=2.6.8->tensorboard~=2.5->tensorflow>=2.0.0->sefr_cut) (3.4.1)\n",
            "Requirement already satisfied: pyasn1<0.5.0,>=0.4.6 in /usr/local/lib/python3.7/dist-packages (from pyasn1-modules>=0.2.1->google-auth<2,>=1.6.3->tensorboard~=2.5->tensorflow>=2.0.0->sefr_cut) (0.4.8)\n",
            "Requirement already satisfied: oauthlib>=3.0.0 in /usr/local/lib/python3.7/dist-packages (from requests-oauthlib>=0.7.0->google-auth-oauthlib<0.5,>=0.4.1->tensorboard~=2.5->tensorflow>=2.0.0->sefr_cut) (3.1.0)\n"
          ],
          "name": "stdout"
        }
      ]
    },
    {
      "cell_type": "code",
      "metadata": {
        "colab": {
          "base_uri": "https://localhost:8080/"
        },
        "id": "Ak8-dmXmjF-T",
        "outputId": "624841ca-7be2-43fc-b9bb-605c12613399"
      },
      "source": [
        "!pip install openpyxl\n",
        "!pip install pandas"
      ],
      "execution_count": null,
      "outputs": [
        {
          "output_type": "stream",
          "text": [
            "Requirement already satisfied: openpyxl in /usr/local/lib/python3.7/dist-packages (2.5.9)\n",
            "Requirement already satisfied: jdcal in /usr/local/lib/python3.7/dist-packages (from openpyxl) (1.4.1)\n",
            "Requirement already satisfied: et-xmlfile in /usr/local/lib/python3.7/dist-packages (from openpyxl) (1.1.0)\n",
            "Requirement already satisfied: pandas in /usr/local/lib/python3.7/dist-packages (1.2.4)\n",
            "Requirement already satisfied: pytz>=2017.3 in /usr/local/lib/python3.7/dist-packages (from pandas) (2018.9)\n",
            "Requirement already satisfied: python-dateutil>=2.7.3 in /usr/local/lib/python3.7/dist-packages (from pandas) (2.8.1)\n",
            "Requirement already satisfied: numpy>=1.16.5 in /usr/local/lib/python3.7/dist-packages (from pandas) (1.20.3)\n",
            "Requirement already satisfied: six>=1.5 in /usr/local/lib/python3.7/dist-packages (from python-dateutil>=2.7.3->pandas) (1.15.0)\n"
          ],
          "name": "stdout"
        }
      ]
    },
    {
      "cell_type": "code",
      "metadata": {
        "id": "Tv1WNGA3BKiZ",
        "colab": {
          "base_uri": "https://localhost:8080/"
        },
        "outputId": "57182acb-ca11-4d81-939a-19807d9b5c04"
      },
      "source": [
        "import pandas as pd\n",
        "import pythainlp\n",
        "import sefr_cut\n",
        "import gensim\n",
        "# import pyLDAvis.gensim\n",
        "import pyLDAvis\n",
        "import pyLDAvis.gensim_models as gensimvis\n",
        "pyLDAvis.enable_notebook()\n",
        "import warnings\n",
        "warnings.filterwarnings(\"ignore\", category=DeprecationWarning)\n",
        "from pandas import ExcelWriter\n",
        "from pandas import ExcelFile\n",
        "import io\n",
        "import numpy as np\n"
      ],
      "execution_count": 1,
      "outputs": [
        {
          "output_type": "stream",
          "text": [
            "/usr/local/lib/python3.7/dist-packages/past/types/oldstr.py:5: DeprecationWarning: Using or importing the ABCs from 'collections' instead of from 'collections.abc' is deprecated since Python 3.3,and in 3.9 it will stop working\n",
            "  from collections import Iterable\n",
            "/usr/local/lib/python3.7/dist-packages/sklearn/linear_model/_least_angle.py:30: DeprecationWarning: `np.float` is a deprecated alias for the builtin `float`. To silence this warning, use `float` by itself. Doing this will not modify any behavior and is safe. If you specifically wanted the numpy scalar type, use `np.float64` here.\n",
            "Deprecated in NumPy 1.20; for more details and guidance: https://numpy.org/devdocs/release/1.20.0-notes.html#deprecations\n",
            "  method='lar', copy_X=True, eps=np.finfo(np.float).eps,\n",
            "/usr/local/lib/python3.7/dist-packages/sklearn/linear_model/_least_angle.py:169: DeprecationWarning: `np.float` is a deprecated alias for the builtin `float`. To silence this warning, use `float` by itself. Doing this will not modify any behavior and is safe. If you specifically wanted the numpy scalar type, use `np.float64` here.\n",
            "Deprecated in NumPy 1.20; for more details and guidance: https://numpy.org/devdocs/release/1.20.0-notes.html#deprecations\n",
            "  method='lar', copy_X=True, eps=np.finfo(np.float).eps,\n",
            "/usr/local/lib/python3.7/dist-packages/sklearn/linear_model/_least_angle.py:286: DeprecationWarning: `np.float` is a deprecated alias for the builtin `float`. To silence this warning, use `float` by itself. Doing this will not modify any behavior and is safe. If you specifically wanted the numpy scalar type, use `np.float64` here.\n",
            "Deprecated in NumPy 1.20; for more details and guidance: https://numpy.org/devdocs/release/1.20.0-notes.html#deprecations\n",
            "  eps=np.finfo(np.float).eps, copy_Gram=True, verbose=0,\n",
            "/usr/local/lib/python3.7/dist-packages/sklearn/linear_model/_least_angle.py:858: DeprecationWarning: `np.float` is a deprecated alias for the builtin `float`. To silence this warning, use `float` by itself. Doing this will not modify any behavior and is safe. If you specifically wanted the numpy scalar type, use `np.float64` here.\n",
            "Deprecated in NumPy 1.20; for more details and guidance: https://numpy.org/devdocs/release/1.20.0-notes.html#deprecations\n",
            "  eps=np.finfo(np.float).eps, copy_X=True, fit_path=True):\n",
            "/usr/local/lib/python3.7/dist-packages/sklearn/linear_model/_least_angle.py:1094: DeprecationWarning: `np.float` is a deprecated alias for the builtin `float`. To silence this warning, use `float` by itself. Doing this will not modify any behavior and is safe. If you specifically wanted the numpy scalar type, use `np.float64` here.\n",
            "Deprecated in NumPy 1.20; for more details and guidance: https://numpy.org/devdocs/release/1.20.0-notes.html#deprecations\n",
            "  eps=np.finfo(np.float).eps, copy_X=True, fit_path=True,\n",
            "/usr/local/lib/python3.7/dist-packages/sklearn/linear_model/_least_angle.py:1120: DeprecationWarning: `np.float` is a deprecated alias for the builtin `float`. To silence this warning, use `float` by itself. Doing this will not modify any behavior and is safe. If you specifically wanted the numpy scalar type, use `np.float64` here.\n",
            "Deprecated in NumPy 1.20; for more details and guidance: https://numpy.org/devdocs/release/1.20.0-notes.html#deprecations\n",
            "  eps=np.finfo(np.float).eps, positive=False):\n",
            "/usr/local/lib/python3.7/dist-packages/sklearn/linear_model/_least_angle.py:1349: DeprecationWarning: `np.float` is a deprecated alias for the builtin `float`. To silence this warning, use `float` by itself. Doing this will not modify any behavior and is safe. If you specifically wanted the numpy scalar type, use `np.float64` here.\n",
            "Deprecated in NumPy 1.20; for more details and guidance: https://numpy.org/devdocs/release/1.20.0-notes.html#deprecations\n",
            "  max_n_alphas=1000, n_jobs=None, eps=np.finfo(np.float).eps,\n",
            "/usr/local/lib/python3.7/dist-packages/sklearn/linear_model/_least_angle.py:1590: DeprecationWarning: `np.float` is a deprecated alias for the builtin `float`. To silence this warning, use `float` by itself. Doing this will not modify any behavior and is safe. If you specifically wanted the numpy scalar type, use `np.float64` here.\n",
            "Deprecated in NumPy 1.20; for more details and guidance: https://numpy.org/devdocs/release/1.20.0-notes.html#deprecations\n",
            "  max_n_alphas=1000, n_jobs=None, eps=np.finfo(np.float).eps,\n",
            "/usr/local/lib/python3.7/dist-packages/sklearn/linear_model/_least_angle.py:1723: DeprecationWarning: `np.float` is a deprecated alias for the builtin `float`. To silence this warning, use `float` by itself. Doing this will not modify any behavior and is safe. If you specifically wanted the numpy scalar type, use `np.float64` here.\n",
            "Deprecated in NumPy 1.20; for more details and guidance: https://numpy.org/devdocs/release/1.20.0-notes.html#deprecations\n",
            "  eps=np.finfo(np.float).eps, copy_X=True, positive=False):\n",
            "/usr/local/lib/python3.7/dist-packages/sklearn/decomposition/_lda.py:29: DeprecationWarning: `np.float` is a deprecated alias for the builtin `float`. To silence this warning, use `float` by itself. Doing this will not modify any behavior and is safe. If you specifically wanted the numpy scalar type, use `np.float64` here.\n",
            "Deprecated in NumPy 1.20; for more details and guidance: https://numpy.org/devdocs/release/1.20.0-notes.html#deprecations\n",
            "  EPS = np.finfo(np.float).eps\n"
          ],
          "name": "stderr"
        }
      ]
    },
    {
      "cell_type": "code",
      "metadata": {
        "colab": {
          "base_uri": "https://localhost:8080/"
        },
        "id": "HQNIyafNl_sy",
        "outputId": "9fa5bc5e-e96f-47fb-efef-d0148f06b92e"
      },
      "source": [
        "%cd \"/content/drive/My Drive/BADS7105\""
      ],
      "execution_count": 2,
      "outputs": [
        {
          "output_type": "stream",
          "text": [
            "/content/drive/My Drive/BADS7105\n"
          ],
          "name": "stdout"
        }
      ]
    },
    {
      "cell_type": "markdown",
      "metadata": {
        "id": "b5B6e7MtpDGX"
      },
      "source": [
        "# **Load data**"
      ]
    },
    {
      "cell_type": "code",
      "metadata": {
        "id": "GQE9bA3nn5qv"
      },
      "source": [
        "df = pd.read_csv('CustomerReviews.csv')"
      ],
      "execution_count": 3,
      "outputs": []
    },
    {
      "cell_type": "code",
      "metadata": {
        "colab": {
          "base_uri": "https://localhost:8080/",
          "height": 510
        },
        "id": "x0SuNG5aew7e",
        "outputId": "388fa95a-7df4-4b54-ee36-0039651688a6"
      },
      "source": [
        "df.head(10)"
      ],
      "execution_count": 4,
      "outputs": [
        {
          "output_type": "execute_result",
          "data": {
            "text/html": [
              "<div>\n",
              "<style scoped>\n",
              "    .dataframe tbody tr th:only-of-type {\n",
              "        vertical-align: middle;\n",
              "    }\n",
              "\n",
              "    .dataframe tbody tr th {\n",
              "        vertical-align: top;\n",
              "    }\n",
              "\n",
              "    .dataframe thead th {\n",
              "        text-align: right;\n",
              "    }\n",
              "</style>\n",
              "<table border=\"1\" class=\"dataframe\">\n",
              "  <thead>\n",
              "    <tr style=\"text-align: right;\">\n",
              "      <th></th>\n",
              "      <th>Review ID</th>\n",
              "      <th>Restaurant_ID</th>\n",
              "      <th>Restaurant</th>\n",
              "      <th>User</th>\n",
              "      <th>Headline</th>\n",
              "      <th>Review</th>\n",
              "      <th>Rating</th>\n",
              "    </tr>\n",
              "  </thead>\n",
              "  <tbody>\n",
              "    <tr>\n",
              "      <th>0</th>\n",
              "      <td>1</td>\n",
              "      <td>352696Px-mo-mo-paradise-เดอะมอลล์-บางกะปิ</td>\n",
              "      <td>Mo-Mo-Paradise (โม โม พาราไดซ์) เดอะมอลล์ บางกะปิ</td>\n",
              "      <td>7b16469831074f7abc7824745ee75212</td>\n",
              "      <td>ที่สำคัญของร้านนี้คือบริการดีมากพนักงานน่ารักส...</td>\n",
              "      <td>ที่สำคัญของร้านนี้คือบริการดีมากพนักงานน่ารักส...</td>\n",
              "      <td>5.0</td>\n",
              "    </tr>\n",
              "    <tr>\n",
              "      <th>1</th>\n",
              "      <td>2</td>\n",
              "      <td>352696Px-mo-mo-paradise-เดอะมอลล์-บางกะปิ</td>\n",
              "      <td>Mo-Mo-Paradise (โม โม พาราไดซ์) เดอะมอลล์ บางกะปิ</td>\n",
              "      <td>pakkaramonpondej</td>\n",
              "      <td>รสชาติเหมือนทุกสาขา แต่สาขานี้ บริการดี ที่นั่งดี</td>\n",
              "      <td>นึกถึงชาบูญี่ปุ่นยังไงก็ต้อง คิดถึงโมโม่ พาราไ...</td>\n",
              "      <td>5.0</td>\n",
              "    </tr>\n",
              "    <tr>\n",
              "      <th>2</th>\n",
              "      <td>3</td>\n",
              "      <td>352696Px-mo-mo-paradise-เดอะมอลล์-บางกะปิ</td>\n",
              "      <td>Mo-Mo-Paradise (โม โม พาราไดซ์) เดอะมอลล์ บางกะปิ</td>\n",
              "      <td>saanowy</td>\n",
              "      <td>ชาบูพรีเมี่ยมสไตล์ญี่ปุ่น เนื้อดีมากกก</td>\n",
              "      <td>มาทานช่วงนี้ สามารถนั่งโต๊ะเดียวกัน หม้อเดียวก...</td>\n",
              "      <td>4.0</td>\n",
              "    </tr>\n",
              "    <tr>\n",
              "      <th>3</th>\n",
              "      <td>4</td>\n",
              "      <td>352696Px-mo-mo-paradise-เดอะมอลล์-บางกะปิ</td>\n",
              "      <td>Mo-Mo-Paradise (โม โม พาราไดซ์) เดอะมอลล์ บางกะปิ</td>\n",
              "      <td>ployynp</td>\n",
              "      <td>เนื้อดี ไอติมดี คุ้มค่าดี</td>\n",
              "      <td>ถ้านึกถึงชาบูที่มีเนื้อเน้นๆ ในราคาไม่โหดจนเกิ...</td>\n",
              "      <td>4.0</td>\n",
              "    </tr>\n",
              "    <tr>\n",
              "      <th>4</th>\n",
              "      <td>5</td>\n",
              "      <td>352696Px-mo-mo-paradise-เดอะมอลล์-บางกะปิ</td>\n",
              "      <td>Mo-Mo-Paradise (โม โม พาราไดซ์) เดอะมอลล์ บางกะปิ</td>\n",
              "      <td>665a902b335b434ab489f00f2fbb477e</td>\n",
              "      <td>อาหารมีคุณภาพ บริการดีค่ะ</td>\n",
              "      <td>เดินมาหน้าร้านแล้วได้กลิ่นชาบูหอมมาก ๆ  ประกอบ...</td>\n",
              "      <td>5.0</td>\n",
              "    </tr>\n",
              "    <tr>\n",
              "      <th>5</th>\n",
              "      <td>6</td>\n",
              "      <td>352696Px-mo-mo-paradise-เดอะมอลล์-บางกะปิ</td>\n",
              "      <td>Mo-Mo-Paradise (โม โม พาราไดซ์) เดอะมอลล์ บางกะปิ</td>\n",
              "      <td>12f2b56b28bb4849a92690cedc1cc50a</td>\n",
              "      <td>กินให้อิ่ม ที่ momo</td>\n",
              "      <td>ร้านบุฟเฟ่ ชาบูแนวญี่ปุ่น สายเนื้อหมู เนื้อวัว...</td>\n",
              "      <td>4.0</td>\n",
              "    </tr>\n",
              "    <tr>\n",
              "      <th>6</th>\n",
              "      <td>7</td>\n",
              "      <td>352696Px-mo-mo-paradise-เดอะมอลล์-บางกะปิ</td>\n",
              "      <td>Mo-Mo-Paradise (โม โม พาราไดซ์) เดอะมอลล์ บางกะปิ</td>\n",
              "      <td>f2628bf47a394345b133fec76a79661d</td>\n",
              "      <td>ชาบู - สุกกี้สไลต์ญี่ปุ่นที่แท้ทรู</td>\n",
              "      <td>Number 20 : โมโม – พาราไดส์ (สาขาเดอะมอลบางกะป...</td>\n",
              "      <td>4.0</td>\n",
              "    </tr>\n",
              "    <tr>\n",
              "      <th>7</th>\n",
              "      <td>8</td>\n",
              "      <td>352696Px-mo-mo-paradise-เดอะมอลล์-บางกะปิ</td>\n",
              "      <td>Mo-Mo-Paradise (โม โม พาราไดซ์) เดอะมอลล์ บางกะปิ</td>\n",
              "      <td>backscrash</td>\n",
              "      <td>ร้านชาบูเฟรนไชส์ ที่ราคาเหมาะสมกับคุณภาพ ถือว่...</td>\n",
              "      <td>ร้านชาบูเฟรนไชส์รสชาติดีมากคุ้มค่าเหมาะสมกับรา...</td>\n",
              "      <td>4.0</td>\n",
              "    </tr>\n",
              "    <tr>\n",
              "      <th>8</th>\n",
              "      <td>9</td>\n",
              "      <td>4621tm-shabushi-เดอะมอลล์บางกะปิ-ชั้น-g</td>\n",
              "      <td>Shabushi (ชาบูชิ) เดอะมอลล์บางกะปิ ชั้น G</td>\n",
              "      <td>a477a5812ada4d5b80fd04fca22bdbca</td>\n",
              "      <td>อร่อยคุ้ม ของทานเล่นเยอะมาก</td>\n",
              "      <td>มา านที่ขาบูชิต้องมาตอนหิว ไม่งั้นจะไม่คุ้มนะค...</td>\n",
              "      <td>4.0</td>\n",
              "    </tr>\n",
              "    <tr>\n",
              "      <th>9</th>\n",
              "      <td>10</td>\n",
              "      <td>4621tm-shabushi-เดอะมอลล์บางกะปิ-ชั้น-g</td>\n",
              "      <td>Shabushi (ชาบูชิ) เดอะมอลล์บางกะปิ ชั้น G</td>\n",
              "      <td>fd2ba94ec1bc4948ae109e2cb6c9cbc6</td>\n",
              "      <td>ทานอีก ชอบกุ้งทอดเทมปุระ</td>\n",
              "      <td>ใครชอบกุ้งทอดเทมปุระ แค่กุ้งเทมปุระก็คุ้มแล้ว ...</td>\n",
              "      <td>3.0</td>\n",
              "    </tr>\n",
              "  </tbody>\n",
              "</table>\n",
              "</div>"
            ],
            "text/plain": [
              "   Review ID  ... Rating\n",
              "0          1  ...    5.0\n",
              "1          2  ...    5.0\n",
              "2          3  ...    4.0\n",
              "3          4  ...    4.0\n",
              "4          5  ...    5.0\n",
              "5          6  ...    4.0\n",
              "6          7  ...    4.0\n",
              "7          8  ...    4.0\n",
              "8          9  ...    4.0\n",
              "9         10  ...    3.0\n",
              "\n",
              "[10 rows x 7 columns]"
            ]
          },
          "metadata": {
            "tags": []
          },
          "execution_count": 4
        }
      ]
    },
    {
      "cell_type": "code",
      "metadata": {
        "id": "7sPfQ6YkNH8c",
        "colab": {
          "base_uri": "https://localhost:8080/",
          "height": 204
        },
        "outputId": "87634dc1-4e80-472a-de25-e0399085f58e"
      },
      "source": [
        "df.tail()"
      ],
      "execution_count": 5,
      "outputs": [
        {
          "output_type": "execute_result",
          "data": {
            "text/html": [
              "<div>\n",
              "<style scoped>\n",
              "    .dataframe tbody tr th:only-of-type {\n",
              "        vertical-align: middle;\n",
              "    }\n",
              "\n",
              "    .dataframe tbody tr th {\n",
              "        vertical-align: top;\n",
              "    }\n",
              "\n",
              "    .dataframe thead th {\n",
              "        text-align: right;\n",
              "    }\n",
              "</style>\n",
              "<table border=\"1\" class=\"dataframe\">\n",
              "  <thead>\n",
              "    <tr style=\"text-align: right;\">\n",
              "      <th></th>\n",
              "      <th>Review ID</th>\n",
              "      <th>Restaurant_ID</th>\n",
              "      <th>Restaurant</th>\n",
              "      <th>User</th>\n",
              "      <th>Headline</th>\n",
              "      <th>Review</th>\n",
              "      <th>Rating</th>\n",
              "    </tr>\n",
              "  </thead>\n",
              "  <tbody>\n",
              "    <tr>\n",
              "      <th>16</th>\n",
              "      <td>17</td>\n",
              "      <td>436045MJ-ข้าน้อยขอชาบู</td>\n",
              "      <td>ข้าน้อยขอชาบู</td>\n",
              "      <td>ployynp</td>\n",
              "      <td>บุฟเฟ่ต์ชาบูและพิซซ่าไม่อั้นในราคา 199 บาท เน้...</td>\n",
              "      <td>หลังจากที่เคยลองสาขายูเนี่ยนมอลล์ไป รอบนี้มาที...</td>\n",
              "      <td>4.0</td>\n",
              "    </tr>\n",
              "    <tr>\n",
              "      <th>17</th>\n",
              "      <td>18</td>\n",
              "      <td>436045MJ-ข้าน้อยขอชาบู</td>\n",
              "      <td>ข้าน้อยขอชาบู</td>\n",
              "      <td>27a91236fe5e4559a4f097c97a480781</td>\n",
              "      <td>ร้านบุฟเฟ่ต์ ราคามิตรภาพ อยู่ชั้น4 ติดโรงหนัง ...</td>\n",
              "      <td>ร้านบุฟเฟ่ต์ที่มีโปรโมชั่นหัวละ199บาท ไม่รวมน้...</td>\n",
              "      <td>4.0</td>\n",
              "    </tr>\n",
              "    <tr>\n",
              "      <th>18</th>\n",
              "      <td>19</td>\n",
              "      <td>436045MJ-ข้าน้อยขอชาบู</td>\n",
              "      <td>ข้าน้อยขอชาบู</td>\n",
              "      <td>0b81d251e4db486f9bcdba73b374ed99</td>\n",
              "      <td>ของหลากหลาย ปนๆ งงๆ นิดหน่อย</td>\n",
              "      <td>เคยรู้จักร้านนี้จากที่ union mall ไม่เคยได้ลอง...</td>\n",
              "      <td>3.0</td>\n",
              "    </tr>\n",
              "    <tr>\n",
              "      <th>19</th>\n",
              "      <td>20</td>\n",
              "      <td>436045MJ-ข้าน้อยขอชาบู</td>\n",
              "      <td>ข้าน้อยขอชาบู</td>\n",
              "      <td>40e0e087f3914fd49a8933b5a29936ca</td>\n",
              "      <td>อร่อยมากค่ะ คุ้มค่าสมราคา บุฟเฟ่หมูผักต่างๆ รว...</td>\n",
              "      <td>อร่อยมากค่ะ คุ้มค่าสมราคา บุฟเฟ่หมูผักต่างๆ รว...</td>\n",
              "      <td>5.0</td>\n",
              "    </tr>\n",
              "    <tr>\n",
              "      <th>20</th>\n",
              "      <td>21</td>\n",
              "      <td>436045MJ-ข้าน้อยขอชาบู</td>\n",
              "      <td>ข้าน้อยขอชาบู</td>\n",
              "      <td>41841cb99ea243a3a8d4b006e946c586</td>\n",
              "      <td>แม้จะแปลกบ้าง แต่ก็ถือว่าอยู่ในเกณฑ์ที่ดี มีอา...</td>\n",
              "      <td>ก็ตามที่เขียนเลยครับ ว่า ถ้าจะจ่ายในราคา 199 บ...</td>\n",
              "      <td>NaN</td>\n",
              "    </tr>\n",
              "  </tbody>\n",
              "</table>\n",
              "</div>"
            ],
            "text/plain": [
              "    Review ID  ... Rating\n",
              "16         17  ...    4.0\n",
              "17         18  ...    4.0\n",
              "18         19  ...    3.0\n",
              "19         20  ...    5.0\n",
              "20         21  ...    NaN\n",
              "\n",
              "[5 rows x 7 columns]"
            ]
          },
          "metadata": {
            "tags": []
          },
          "execution_count": 5
        }
      ]
    },
    {
      "cell_type": "markdown",
      "metadata": {
        "id": "9NyF_CbeNX2W"
      },
      "source": [
        "## **Tokenize Words** - Text Processing"
      ]
    },
    {
      "cell_type": "code",
      "metadata": {
        "id": "Dl5ptrJNNa2y"
      },
      "source": [
        "stopwords = list(pythainlp.corpus.thai_stopwords())\n",
        "removed_words = [' ', '  ', '\\n', 'ร้าน', '(', ')','!!!!','+','++','😆','🤣','/','-','ววว','xx','อิอิ','แย้ววว','นะคะ','นะค่ะ','(',')','ฯ','ๆ','กก','ขาบูชิ','555',':', '::','แตา','ก์']\n",
        "screening_words = stopwords + removed_words\n",
        "\n",
        "import pythainlp\n",
        "from pythainlp.corpus.common import thai_words\n",
        "\n",
        "def tokenize_with_space(sentence):\n",
        "  merge_name = set(thai_words())\n",
        "  merge_name.add('ชาบูชิ')\n",
        "  merge_name.add('ยูเนี่ยนมอลล์')\n",
        "  merge_name.add('รีฟีล')\n",
        "  merge_name.add('บุพเฟ่')\n",
        "  merge_name.add('ปรกติ')\n",
        "  merge_name.add('เทมปุระ')\n",
        "  merge_name.add('หอมมาก')\n",
        "  merge_name.add('บุฟเฟ่')\n",
        "  merge_name.add('บุฟเฟ')\n",
        "  merge_name.add('บุฟเฟ่ต์')\n",
        "  merge_name.add('เดอะมอล')\n",
        "  merge_name.add('เดอะมอลล์')\n",
        "  merge_name.add('โมจิ')\n",
        "  merge_name.add('โมโม่')\n",
        "  merge_name.add('พาราไดส์')\n",
        "  merge_name.add('พาราไดซ์')\n",
        "\n",
        "\n",
        "  trie = pythainlp.util.dict_trie(dict_source = merge_name)\n",
        "def tokenize_with_space(sentence):\n",
        "  merged = ''\n",
        "  words = pythainlp.word_tokenize(str(sentence), engine='newmm')\n",
        "  for word in words:\n",
        "    if word not in screening_words:\n",
        "      merged = merged + ',' + word.strip()\n",
        "  return merged[1:]"
      ],
      "execution_count": 6,
      "outputs": []
    },
    {
      "cell_type": "code",
      "metadata": {
        "id": "wJ979qbENdzH"
      },
      "source": [
        "df['Review_tokenized'] = df['Review'].apply(lambda x: tokenize_with_space(x))"
      ],
      "execution_count": 7,
      "outputs": []
    },
    {
      "cell_type": "code",
      "metadata": {
        "id": "725oxXg9OcR5",
        "colab": {
          "base_uri": "https://localhost:8080/",
          "height": 305
        },
        "outputId": "cec73d16-abec-424e-bbd7-20bcf514db61"
      },
      "source": [
        "df.tail()"
      ],
      "execution_count": 8,
      "outputs": [
        {
          "output_type": "execute_result",
          "data": {
            "text/html": [
              "<div>\n",
              "<style scoped>\n",
              "    .dataframe tbody tr th:only-of-type {\n",
              "        vertical-align: middle;\n",
              "    }\n",
              "\n",
              "    .dataframe tbody tr th {\n",
              "        vertical-align: top;\n",
              "    }\n",
              "\n",
              "    .dataframe thead th {\n",
              "        text-align: right;\n",
              "    }\n",
              "</style>\n",
              "<table border=\"1\" class=\"dataframe\">\n",
              "  <thead>\n",
              "    <tr style=\"text-align: right;\">\n",
              "      <th></th>\n",
              "      <th>Review ID</th>\n",
              "      <th>Restaurant_ID</th>\n",
              "      <th>Restaurant</th>\n",
              "      <th>User</th>\n",
              "      <th>Headline</th>\n",
              "      <th>Review</th>\n",
              "      <th>Rating</th>\n",
              "      <th>Review_tokenized</th>\n",
              "    </tr>\n",
              "  </thead>\n",
              "  <tbody>\n",
              "    <tr>\n",
              "      <th>16</th>\n",
              "      <td>17</td>\n",
              "      <td>436045MJ-ข้าน้อยขอชาบู</td>\n",
              "      <td>ข้าน้อยขอชาบู</td>\n",
              "      <td>ployynp</td>\n",
              "      <td>บุฟเฟ่ต์ชาบูและพิซซ่าไม่อั้นในราคา 199 บาท เน้...</td>\n",
              "      <td>หลังจากที่เคยลองสาขายูเนี่ยนมอลล์ไป รอบนี้มาที...</td>\n",
              "      <td>4.0</td>\n",
              "      <td>หลังจากที่,ลอง,สาขา,ยู,นม,อลล์,รอบ,สาขา,เดอะ,ม...</td>\n",
              "    </tr>\n",
              "    <tr>\n",
              "      <th>17</th>\n",
              "      <td>18</td>\n",
              "      <td>436045MJ-ข้าน้อยขอชาบู</td>\n",
              "      <td>ข้าน้อยขอชาบู</td>\n",
              "      <td>27a91236fe5e4559a4f097c97a480781</td>\n",
              "      <td>ร้านบุฟเฟ่ต์ ราคามิตรภาพ อยู่ชั้น4 ติดโรงหนัง ...</td>\n",
              "      <td>ร้านบุฟเฟ่ต์ที่มีโปรโมชั่นหัวละ199บาท ไม่รวมน้...</td>\n",
              "      <td>4.0</td>\n",
              "      <td>บุฟเฟ่ต์,โปรโมชั่น,หัว,199,บาท,น้ำ,VAT,ทาน,ธรร...</td>\n",
              "    </tr>\n",
              "    <tr>\n",
              "      <th>18</th>\n",
              "      <td>19</td>\n",
              "      <td>436045MJ-ข้าน้อยขอชาบู</td>\n",
              "      <td>ข้าน้อยขอชาบู</td>\n",
              "      <td>0b81d251e4db486f9bcdba73b374ed99</td>\n",
              "      <td>ของหลากหลาย ปนๆ งงๆ นิดหน่อย</td>\n",
              "      <td>เคยรู้จักร้านนี้จากที่ union mall ไม่เคยได้ลอง...</td>\n",
              "      <td>3.0</td>\n",
              "      <td>รู้จัก,union,mall,ลอง,กิน,จำได้,ขึ้นใจ,ชื่อ,ชื...</td>\n",
              "    </tr>\n",
              "    <tr>\n",
              "      <th>19</th>\n",
              "      <td>20</td>\n",
              "      <td>436045MJ-ข้าน้อยขอชาบู</td>\n",
              "      <td>ข้าน้อยขอชาบู</td>\n",
              "      <td>40e0e087f3914fd49a8933b5a29936ca</td>\n",
              "      <td>อร่อยมากค่ะ คุ้มค่าสมราคา บุฟเฟ่หมูผักต่างๆ รว...</td>\n",
              "      <td>อร่อยมากค่ะ คุ้มค่าสมราคา บุฟเฟ่หมูผักต่างๆ รว...</td>\n",
              "      <td>5.0</td>\n",
              "      <td>อร่อย,คุ้มค่า,สมราคา,บุ,ฟเฟ่,หมู,ผัก,น้ำ,จบ,25...</td>\n",
              "    </tr>\n",
              "    <tr>\n",
              "      <th>20</th>\n",
              "      <td>21</td>\n",
              "      <td>436045MJ-ข้าน้อยขอชาบู</td>\n",
              "      <td>ข้าน้อยขอชาบู</td>\n",
              "      <td>41841cb99ea243a3a8d4b006e946c586</td>\n",
              "      <td>แม้จะแปลกบ้าง แต่ก็ถือว่าอยู่ในเกณฑ์ที่ดี มีอา...</td>\n",
              "      <td>ก็ตามที่เขียนเลยครับ ว่า ถ้าจะจ่ายในราคา 199 บ...</td>\n",
              "      <td>NaN</td>\n",
              "      <td>จ่าย,ราคา,199,บาท,จ่าย,เงินสด,ราคา,น้ำ,VAT,7,%...</td>\n",
              "    </tr>\n",
              "  </tbody>\n",
              "</table>\n",
              "</div>"
            ],
            "text/plain": [
              "    Review ID  ...                                   Review_tokenized\n",
              "16         17  ...  หลังจากที่,ลอง,สาขา,ยู,นม,อลล์,รอบ,สาขา,เดอะ,ม...\n",
              "17         18  ...  บุฟเฟ่ต์,โปรโมชั่น,หัว,199,บาท,น้ำ,VAT,ทาน,ธรร...\n",
              "18         19  ...  รู้จัก,union,mall,ลอง,กิน,จำได้,ขึ้นใจ,ชื่อ,ชื...\n",
              "19         20  ...  อร่อย,คุ้มค่า,สมราคา,บุ,ฟเฟ่,หมู,ผัก,น้ำ,จบ,25...\n",
              "20         21  ...  จ่าย,ราคา,199,บาท,จ่าย,เงินสด,ราคา,น้ำ,VAT,7,%...\n",
              "\n",
              "[5 rows x 8 columns]"
            ]
          },
          "metadata": {
            "tags": []
          },
          "execution_count": 8
        }
      ]
    },
    {
      "cell_type": "markdown",
      "metadata": {
        "id": "26a47MzoPh7p"
      },
      "source": [
        "## **Create Dictionary**"
      ]
    },
    {
      "cell_type": "code",
      "metadata": {
        "id": "U06F7vYCPdgX"
      },
      "source": [
        "documents = df['Review_tokenized'].to_list()\n",
        "texts = [[text for text in doc.split(',')] for doc in documents]\n",
        "dictionary = gensim.corpora.Dictionary(texts)"
      ],
      "execution_count": 9,
      "outputs": []
    },
    {
      "cell_type": "code",
      "metadata": {
        "id": "vo1LdutKP3vR",
        "colab": {
          "base_uri": "https://localhost:8080/"
        },
        "outputId": "1b94271e-2dab-4b86-d69c-5e4bccf593e2"
      },
      "source": [
        "print(dictionary.token2id.keys())"
      ],
      "execution_count": 10,
      "outputs": [
        {
          "output_type": "stream",
          "text": [
            "dict_keys(['1', '4', '560', 'กิน', 'ข้างนอก', 'ความต้องการ', 'คอ', 'คุณภาพ', 'คุ้ม', 'จำกัด', 'ซุป', 'ดำ', 'ดี', 'ดีมาก', 'ถาด', 'ถาม', 'น่ารัก', 'น้ำ', 'น้ำจิ้ม', 'บริการ', 'บาท', 'ประทับใจ', 'พนักงาน', 'พอกับ', 'ภาพ', 'รสชาติ', 'ราคา', 'สรุป', 'สะอาดสะอ้าน', 'สัน', 'หลากหลาย', 'อร่อย', 'อันนี้', 'อาหาร', 'เคลม', 'เซ็ท', 'เต้าเจี้ยว', 'เนื้อ', 'เป็ด', 'เผ็ด', 'แบบนี้', 'แปลก', 'แฟน', 'โดยรวม', 'โมจิ', 'ใส่ใจ', 'ไม่ต้อง', 'ไอติม', '\\u200b', '', '21', '30', '9', 'CTW', 'Terminal', 'กา', 'การงด', 'คิดถึง', 'ชาบู', 'ญี่ปุ่น', 'ฐาน', 'ทะยอย', 'ทำงาน', 'ที่ทาง', 'นาที', 'นึกถึง', 'พนักงานบริการ', 'พระราม', 'พรีเมียม', 'พาราไดซ์', 'มาตรา', 'มีโอ', 'รายละเอียด', 'ลูกค้า', 'สมาทาน', 'สาขา', 'สู้', 'ออร์เดอร์', 'เครื่องดื่ม', 'เค้า', 'เจอ', 'เป็นกันเอง', 'เหวี่ยง', 'แจ้ง', 'โม', 'โม่', 'โอเค', '2', '600', 'กรุบ', 'กั้น', 'ของหวาน', 'คนละ', 'คาว', 'คุ', 'คุ้มค่า', 'จาน', 'จิ้ม', 'จืด', 'ฉาก', 'ชอบ', 'ชาเขียว', 'ชิ้น', 'ซอย', 'ซอส', 'ตก', 'ตะ', 'ตัก', 'ตามน้ำ', 'ต่างกัน', 'ถั่ว', 'ถ่ายรูป', 'ทาน', 'นั่ง', 'นุ่ม', 'บด', 'บาร์', 'บู', 'ผัก', 'ภาษา', 'มีชื่อ', 'ยังมี', 'รส', 'รี่', 'รู้สึก', 'ลอง', 'ลิ้น', 'ลืม', 'สด', 'สตอ', 'สั่ง', 'สามรส', 'ส่วนตัว', 'หนึบ', 'หม้อ', 'หวาน', 'อยากได้', 'เข้มข้น', 'เข้ากัน', 'เค็ม', 'เนื้อวัว', 'เนื้อสัตว์', 'เนื้อหมู', 'เบอ', 'เป็นผู้ใหญ่', 'เลือก', 'เสิร์ฟ', 'เหนียว', 'เห็ด', 'แดง', 'แตก', 'แนว', 'แย้', 'โควิด', 'โต๊ะ', 'โร', 'ใส', 'ไก่', 'ไข่', 'ไดฟูกุ', 'ไผ่', 'ไม้', 'ไหว', '3', 'ข้าว', 'จ่าย', 'ถ้วย', 'ธรรมดา', 'ส', 'ออ', 'เกินไป', 'เลี่ยน', 'โปร', 'โหด', 'ไว', 'ไอศกรีม', 'ขนม', 'คุณภาพดี', 'ตัดสินใจ', 'ต่าง ๆ', 'ที่จะ', 'ที่นั่ง', 'บัตรเครดิต', 'มมาก', 'ลูกชิ้น', 'สบายดี', 'หน้า', 'หอ', 'เดิน', 'เด็ก', 'เส้น', 'เหมือนกับ', 'แคบ', 'ได้กลิ่น', 'คามี', 'ซึ', 'บุ', 'บ๋วย', 'พอน', 'ฟเฟ่', 'รา', 'สาย', 'หยิบ', 'โซน', 'โปรโมชั่น', '20', '4.0', '5', 'Menu', 'Number', 'กรรมวิธี', 'กะปิ', 'คน', 'คะแนน', 'ชุด', 'ดังเดิม', 'บุฟเฟ่ต์', 'ประ', 'พารา', 'มอ', 'ยุค', 'ร้านอาหาร', 'ล', 'สุกี้', 'สไตล์', 'ส์', 'หมู', 'หลาก', 'หลายชนิด', 'เดอะ', 'เมนู', 'แบบฉบับ', 'แบ่ง', 'ได', 'ไทย', '–', '500', 'กาแฟ', 'งวด', 'ตอนที่', 'ตำ', 'ติด', 'ทั่วไป', 'น', 'บ๊วย', 'ยุ', 'ร้อน', 'ลุย', 'สุกี้ยากี้', 'อยู่แล้ว', 'ออสเตรเลีย', 'เป็นปกติ', 'เฟรนไชส์', 'เรื่อง', 'เหมาะสม', 'แนะนำ', 'โช', 'ไข่ไก่', 'ไอศครีม', '..', '399', 'กุ้ง', 'ของกิน', 'ขา', 'ชิ', 'ซูชิ', 'ซ่า', 'ตอน', 'ตอนนี้', 'นิดนึง', 'ปุระ', 'ปูอัด', 'ม', 'ละลานตา', 'สายพาน', 'หิว', 'ฮ่า', 'าน', 'เกี๊ยว', 'เท', 'เทียบ', 'เล่น', 'แพง', 'แล้วก็', 'ไม่งั้น', 'กลาย', 'กี่', 'ชั่วคราว', 'ชื่นใจ', 'ซะงั้น', 'ญี่', 'ดึก', 'ตบท้าย', 'ตัว', 'ทอด', 'ทานอาหาร', 'นพ', 'นึก', 'น้ะ', 'ปลา', 'ปุ', 'ผิดหวัง', 'วก', 'สมใจ', 'อย่า', 'อาหารเสริม', 'เติม', 'เป็นมา', 'เป็นหลัก', 'เย็น', '1.15', 'net', 'กลับมา', 'ของคาว', 'ชม.', 'ตรงนั้น', 'ยืน', 'ลายตา', 'สไลด์', 'อัพเดท', 'อิ่ม', 'เบ', 'เพลิน', 'ไลน์', '\"', '/คน', '15', '359', 'G', 'Net', 'Shabushi', 'กด', 'กรอ', 'ขาดสารอาหาร', 'ขึ้นราคา', 'ข่าว', 'คนเดียว', 'ครึ่ง', 'คิว', 'งาน', 'จุ', 'ชั่วโมง', 'ชั้น', 'ชื่น', 'ดู', 'ตลับ', 'ตับ', 'ตั้งอยู่', 'ติง', 'ถนนใหญ่', 'ถูกใจ', 'ทำ', 'ทิ้ง', 'น้ำมัน', 'บดี', 'ปลาดิบ', 'ปอกเปลือก', 'ฝรั่ง', 'ฝั่ง', 'มอลล์', 'มื้อ', 'รอ', 'ระดับ', 'รายการ', 'ลด', 'ลา', 'ลูก', 'วันหยุด', 'วาง', 'วานิลา', 'สะอาด', 'สาเหตุ', 'สำหรับ', 'สไปรท์', 'หนา', 'หอม', 'หอย', 'หาไม่', 'ห่างหาย', 'ห้าง', 'อม', 'ออกมา', 'อาทิตย์', 'อีกครั้ง', 'เช็คบิล', 'เด่น', 'เด้ง', 'เบคอน', 'เปรี้ยวหวาน', 'เพื่อน', 'เลิก', 'เวลา', 'เสาร์', 'เหมือน', 'เหมือนกัน', 'แก้ว', 'แถม', 'แน่น', 'แป้ง', 'แย่', 'แออัด', 'โดน', 'โดยประมาณ', 'โฟลต', 'โอ', 'ใจดี', 'ใจมา', 'ใช้ได้', 'ใส่', 'ได้ยิน', 'ชอค', 'ต', 'นัด', 'นิ', 'มะนาว', 'มุ', 'ลงเอย', 'ว', 'วันก่อน', 'ห', 'หา', 'อยุ่', 'อาหารสด', 'เบอร์', 'แกงค์', 'แล', 'โก', 'กินที่', 'ขยัน', 'จอง', 'ชู', 'ณ์', 'บุฟเฟต์', 'ป', 'ประตู', 'พลาด', 'พอได้', 'พี่', 'รอบ', 'ร้อย', 'สาม', 'สุดท้าย', 'หลายครั้ง', 'หล่ะ', 'อาราม', 'เข้าหน้า', 'เต็ม', 'โชคดี', 'ขวัญใจ', 'ข้อดี', 'ต้องการ', 'ทั่วถึง', 'นํ้า', 'บ', 'ฟเฟ', 'มี่', 'ระบบ', 'รีวิว', 'สวัสดี', 'เก้', 'ใช้แล้ว', '^^', 'กลยุทธ์', 'ขนาด', 'ข้น', 'ข้าวปั้น', 'ค่า', 'ชอป', 'ซุ้ม', 'ดีขึ้น', 'ตรงข้าม', 'ตรงนี้', 'ต้ม', 'ต้มยำ', 'ท่าน', 'นัล', 'บริเวณ', 'บัตรสมาชิก', 'ปรับปรุง', 'มันดี', 'มากขึ้น', 'ยอด', 'ลาน', 'สลัด', 'หมู่คณะ', 'ออกร้าน', 'เครือ', 'เคลื่อนตัว', 'เคาน์เตอร์', 'เบา', 'เป็นแนว', 'แมค', 'โชคชะตา', 'โด', 'โน้น', 'โออิชิ', '199', '39', '40', '49', 'HALL', 'MCC', 'ค่ายมวย', 'ด้านใน', 'ตอนแรก', 'ตัวเลือก', 'ติดกับ', 'ที่ไหนได้', 'นม', 'นา', 'น้ำดื่ม', 'พิซ', 'พิซซ่า', 'ฟี', 'ยู', 'รี', 'หลังจากที่', 'อลล์', 'อเรีย', 'เซ', 'แกงเขียวหวาน', 'แน่นอน', 'แวะ', '10', '300', '6', 'VAT', 'กำ', 'ค่าน้ำ', 'ช่อง', 'ซี', 'ซึป', 'ถูกหวย', 'ทอน', 'นึง', 'ฟรี', 'ฟู้ด', 'รับประกัน', 'ลอตเตอรี่', 'สัปดาห์', 'หวย', 'หัว', 'ฮัน', 'เงิน', 'แลก', 'โทส', 'ได้เวลา', 'Narai', 'mall', 'pizza', 'pizzeria', 'union', 'ของสด', 'ขึ้นใจ', 'ข้าวมันไก่', 'จำได้', 'ชื่อ', 'ตตี้', 'ตัดกำลัง', 'ตู้', 'นิว', 'บางส่วน', 'ปรุง', 'รู้จัก', 'ลี', 'สปา', 'สุก', 'เก', '128', '255', '29', 'ครีม', 'จบ', 'จุก', 'ชาต', 'บรา', 'บุพ', 'ปิดท้าย', 'ย', 'วิป', 'สมราคา', 'สวย', 'เ', 'เซต', 'เด็ด', 'เป้ง', 'เฟ่', 'เรย', 'เริส', 'เเบบ', 'โชค', '%', '7', 'ทดแทน', 'ปรกติ', 'สดๆ ร้อนๆ', 'เงินสด', 'โดยเฉพาะ'])\n"
          ],
          "name": "stdout"
        }
      ]
    },
    {
      "cell_type": "code",
      "metadata": {
        "id": "VP1X-3ntQGKt"
      },
      "source": [
        "gensim_corpus = [dictionary.doc2bow(text, allow_update=True) for text in texts]\n",
        "word_frequencies = [[(dictionary[id], frequence) for id, frequence in couple] for couple in gensim_corpus]\n"
      ],
      "execution_count": 11,
      "outputs": []
    },
    {
      "cell_type": "markdown",
      "metadata": {
        "id": "DXgYt5g-0Zcd"
      },
      "source": [
        "## **Topic Modeling**"
      ]
    },
    {
      "cell_type": "code",
      "metadata": {
        "id": "kaDtxDpuQZon",
        "colab": {
          "base_uri": "https://localhost:8080/"
        },
        "outputId": "cbacc798-5dc5-4fe5-ac05-181e5b24f97f"
      },
      "source": [
        "num_topics = 4\n",
        "chunksize = 4000 # size of the doc looked at every pass\n",
        "passes = 20 # number of passes through documents\n",
        "iterations = 50\n",
        "eval_every = 1  # Don't evaluate model perplexity, takes too much time.\n",
        "\n",
        "# Make a index to word dictionary.\n",
        "temp = dictionary[0]  # This is only to \"load\" the dictionary.\n",
        "id2word = dictionary.id2token\n",
        "\n",
        "%time model = gensim.models.LdaModel(corpus=gensim_corpus, id2word=id2word, chunksize=chunksize, \\\n",
        "                       alpha='auto', eta='auto', \\\n",
        "                       iterations=iterations, num_topics=num_topics, \\\n",
        "                       passes=passes, eval_every=eval_every)"
      ],
      "execution_count": 42,
      "outputs": [
        {
          "output_type": "stream",
          "text": [
            "CPU times: user 366 ms, sys: 7.62 ms, total: 373 ms\n",
            "Wall time: 374 ms\n"
          ],
          "name": "stdout"
        }
      ]
    },
    {
      "cell_type": "code",
      "metadata": {
        "id": "bdrm8raPROPN",
        "colab": {
          "base_uri": "https://localhost:8080/",
          "height": 860
        },
        "outputId": "cc3f9aab-c4a2-4df8-b506-79e24a0824fc"
      },
      "source": [
        "#pyLDAvis.gensim.prepare(model, gensim_corpus, dictionary)\n",
        "gensimvis.prepare(model, gensim_corpus, dictionary)"
      ],
      "execution_count": 43,
      "outputs": [
        {
          "output_type": "execute_result",
          "data": {
            "text/html": [
              "\n",
              "<link rel=\"stylesheet\" type=\"text/css\" href=\"https://cdn.jsdelivr.net/gh/bmabey/pyLDAvis@3.3.1/pyLDAvis/js/ldavis.v1.0.0.css\">\n",
              "\n",
              "\n",
              "<div id=\"ldavis_el21971404810747737129026247199\"></div>\n",
              "<script type=\"text/javascript\">\n",
              "\n",
              "var ldavis_el21971404810747737129026247199_data = {\"mdsDat\": {\"x\": [0.05211898109934156, -0.019496355713821256, -0.027791161772058804, -0.0048314636134614555], \"y\": [0.002545573345966077, -0.03172191706266052, 0.026575698897584345, 0.002600644819110098], \"topics\": [1, 2, 3, 4], \"cluster\": [1, 1, 1, 1], \"Freq\": [43.847460997717526, 25.66348688028161, 21.4671285688988, 9.021923553102063]}, \"tinfo\": {\"Term\": [\"\\u0e19\\u0e49\\u0e33\", \"\\u0e2d\\u0e23\\u0e48\\u0e2d\\u0e22\", \"\\u0e40\\u0e25\\u0e37\\u0e2d\\u0e01\", \"\\u200b\", \"\\u0e0b\\u0e38\\u0e1b\", \"\\u0e17\\u0e32\\u0e19\", \"\\u0e1a\\u0e38\\u0e1f\\u0e40\\u0e1f\\u0e48\\u0e15\\u0e4c\", \"\\u0e14\\u0e35\", \"\\u0e1a\\u0e32\\u0e17\", \"\\u0e02\\u0e2d\\u0e07\\u0e2b\\u0e27\\u0e32\\u0e19\", \"\\u0e0a\\u0e32\\u0e1a\\u0e39\", \"\\u0e23\\u0e32\\u0e04\\u0e32\", \"\", \"\\u0e19\\u0e49\\u0e33\\u0e08\\u0e34\\u0e49\\u0e21\", \"\\u0e23\\u0e2a\\u0e0a\\u0e32\\u0e15\\u0e34\", \"\\u0e0a\\u0e2d\\u0e1a\", \"\\u0e01\\u0e34\\u0e19\", \"\\u0e1a\\u0e38\", \"\\u0e40\\u0e19\\u0e37\\u0e49\\u0e2d\", \"\\u0e1e\\u0e34\\u0e0b\\u0e0b\\u0e48\\u0e32\", \"\\u0e04\\u0e19\\u0e25\\u0e30\", \"\\u0e2a\\u0e31\\u0e48\\u0e07\", \"\\u0e1f\\u0e40\\u0e1f\\u0e48\", \"\\u0e41\\u0e19\\u0e30\\u0e19\\u0e33\", \"2\", \"\\u0e14\\u0e33\", \"\\u0e44\\u0e01\\u0e48\", \"\\u0e2d\\u0e32\\u0e2b\\u0e32\\u0e23\", \"\\u0e14\\u0e35\\u0e21\\u0e32\\u0e01\", \"\\u0e1c\\u0e31\\u0e01\", \"\\u0e01\\u0e38\\u0e49\\u0e07\", \"\\u0e23\\u0e2d\", \"\\u0e40\\u0e27\\u0e25\\u0e32\", \"\\u0e04\\u0e34\\u0e27\", \"\\u0e2b\\u0e49\\u0e32\\u0e07\", \"\\u0e15\\u0e31\\u0e27\", \"\\u0e21\", \"\\u0e40\\u0e17\", \"\\u0e1b\\u0e38\\u0e23\\u0e30\", \"\\u0e19\\u0e36\\u0e01\\u0e16\\u0e36\\u0e07\", \"\\u0e0a\\u0e31\\u0e48\\u0e27\\u0e42\\u0e21\\u0e07\", \"\\u0e19\\u0e32\\u0e17\\u0e35\", \"G\", \"\\u0e44\\u0e2d\\u0e28\\u0e01\\u0e23\\u0e35\\u0e21\", \"15\", \"\\u0e43\\u0e0a\\u0e49\\u0e44\\u0e14\\u0e49\", \"\\u0e15\\u0e31\\u0e49\\u0e07\\u0e2d\\u0e22\\u0e39\\u0e48\", \"\\u0e41\\u0e25\\u0e49\\u0e27\\u0e01\\u0e47\", \"\\u0e41\\u0e1e\\u0e07\", \"\\u0e42\\u0e21\\u0e48\", \"\\u0e1a\\u0e38\\u0e1f\\u0e40\\u0e1f\\u0e15\\u0e4c\", \"\\u0e40\\u0e01\\u0e34\\u0e19\\u0e44\\u0e1b\", \"\\u0e40\\u0e15\\u0e34\\u0e21\", \"\\u0e2d\\u0e22\\u0e48\\u0e32\", \"\\u0e1c\\u0e34\\u0e14\\u0e2b\\u0e27\\u0e31\\u0e07\", \"\\u0e19\\u0e34\\u0e14\\u0e19\\u0e36\\u0e07\", \"\\u0e40\\u0e17\\u0e35\\u0e22\\u0e1a\", \"\\u0e1b\\u0e23\\u0e30\\u0e15\\u0e39\", \"Shabushi\", \"\\u0e40\\u0e25\\u0e34\\u0e01\", \"\\u0e2a\\u0e14\", \"\\u0e04\\u0e19\", \"\\u0e0a\\u0e34\", \"\\u0e2a\\u0e32\\u0e22\\u0e1e\\u0e32\\u0e19\", \"\\u0e01\\u0e25\\u0e31\\u0e1a\\u0e21\\u0e32\", \"\\u0e2a\\u0e44\\u0e25\\u0e14\\u0e4c\", \"\\u0e17\\u0e2d\\u0e14\", \"\\u0e2a\\u0e33\\u0e2b\\u0e23\\u0e31\\u0e1a\", \"\\u0e01\\u0e34\\u0e19\", \"\\u0e2d\\u0e32\\u0e2b\\u0e32\\u0e23\", \"\\u0e2a\\u0e32\\u0e02\\u0e32\", \"\\u0e14\\u0e35\", \"\\u0e17\\u0e32\\u0e19\", \"\\u0e40\\u0e19\\u0e37\\u0e49\\u0e2d\", \"\\u0e23\\u0e32\\u0e04\\u0e32\", \"\\u0e0a\\u0e32\\u0e1a\\u0e39\", \"\\u0e40\\u0e14\\u0e2d\\u0e30\", \"\\u0e19\\u0e38\\u0e48\\u0e21\", \"\\u0e2b\\u0e19\\u0e49\\u0e32\", \"1\", \"\\u0e14\\u0e39\", \"\\u0e40\\u0e25\\u0e37\\u0e2d\\u0e01\", \"\\u0e1a\\u0e32\\u0e17\", \"\\u0e04\\u0e38\\u0e49\\u0e21\", \"\\u0e2d\\u0e23\\u0e48\\u0e2d\\u0e22\", \"\\u0e23\\u0e2a\\u0e0a\\u0e32\\u0e15\\u0e34\", \"\\u0e19\\u0e49\\u0e33\", \"\\u0e40\\u0e21\\u0e19\\u0e39\", \"\\u0e0b\\u0e39\\u0e0a\\u0e34\", \"\\u0e0b\\u0e38\\u0e1b\", \"\\u0e44\\u0e2d\\u0e15\\u0e34\\u0e21\", \"\\u200b\", \"\\u0e2b\\u0e25\\u0e32\\u0e01\\u0e2b\\u0e25\\u0e32\\u0e22\", \"\\u0e15\\u0e48\\u0e32\\u0e07 \\u0e46\", \"\\u0e1b\\u0e23\\u0e30\\u0e17\\u0e31\\u0e1a\\u0e43\\u0e08\", \"\\u0e19\\u0e4d\\u0e49\\u0e32\", \"\\u0e41\\u0e1b\\u0e25\\u0e01\", \"\\u0e0a\\u0e37\\u0e48\\u0e2d\", \"\\u0e1a\\u0e32\\u0e07\\u0e2a\\u0e48\\u0e27\\u0e19\", \"\\u0e44\\u0e25\\u0e19\\u0e4c\", \"\\u0e40\\u0e1a\", \"\\u0e2d\\u0e34\\u0e48\\u0e21\", \"\\u0e2a\\u0e27\\u0e31\\u0e2a\\u0e14\\u0e35\", \"\\u0e17\\u0e31\\u0e48\\u0e27\\u0e16\\u0e36\\u0e07\", \"\\u0e21\\u0e35\\u0e48\", \"\\u0e23\\u0e35\\u0e27\\u0e34\\u0e27\", \"\\u0e40\\u0e01\\u0e49\", \"\\u0e15\\u0e49\\u0e2d\\u0e07\\u0e01\\u0e32\\u0e23\", \"\\u0e1f\\u0e40\\u0e1f\", \"\\u0e23\\u0e30\\u0e1a\\u0e1a\", \"\\u0e02\\u0e27\\u0e31\\u0e0d\\u0e43\\u0e08\", \"\\u0e44\\u0e14\\u0e49\\u0e01\\u0e25\\u0e34\\u0e48\\u0e19\", \"\\u0e40\\u0e14\\u0e47\\u0e01\", \"\\u0e02\\u0e49\\u0e2d\\u0e14\\u0e35\", \"\\u0e16\\u0e32\\u0e14\", \"\\u0e15\\u0e31\\u0e14\\u0e2a\\u0e34\\u0e19\\u0e43\\u0e08\", \"\\u0e1a\", \"\\u0e41\\u0e1f\\u0e19\", \"\\u0e43\\u0e2a\\u0e48\\u0e43\\u0e08\", \"\\u0e04\\u0e38\\u0e13\\u0e20\\u0e32\\u0e1e\\u0e14\\u0e35\", \"\\u0e41\\u0e1a\\u0e1a\\u0e19\\u0e35\\u0e49\", \"\\u0e08\\u0e48\\u0e32\\u0e22\", \"\\u0e1a\\u0e23\\u0e34\\u0e01\\u0e32\\u0e23\", \"199\", \"\\u0e1e\\u0e34\\u0e0b\\u0e0b\\u0e48\\u0e32\", \"4\", \"\\u0e25\\u0e2d\\u0e07\", \"\\u0e2d\\u0e23\\u0e48\\u0e2d\\u0e22\", \"\\u0e1a\\u0e32\\u0e17\", \"\\u0e0b\\u0e38\\u0e1b\", \"\\u0e23\\u0e32\\u0e04\\u0e32\", \"\\u0e2a\\u0e31\\u0e48\\u0e07\", \"\\u0e01\\u0e34\\u0e19\", \"\\u0e19\\u0e31\\u0e48\\u0e07\", \"\\u0e19\\u0e49\\u0e33\", \"\\u0e2d\\u0e32\\u0e2b\\u0e32\\u0e23\", \"\\u0e17\\u0e32\\u0e19\", \"\\u0e23\\u0e2a\\u0e0a\\u0e32\\u0e15\\u0e34\", \"\\u0e40\\u0e19\\u0e37\\u0e49\\u0e2d\", \"\\u0e0a\\u0e32\\u0e1a\\u0e39\", \"\\u0e40\\u0e25\\u0e37\\u0e2d\\u0e01\", \"\\u0e14\\u0e35\", \"\", \"\\u0e04\\u0e38\\u0e49\\u0e21\", \"\\u0e0b\\u0e39\\u0e0a\\u0e34\", \"\\u0e2a\\u0e32\\u0e02\\u0e32\", \"\\u0e02\\u0e2d\\u0e07\\u0e2b\\u0e27\\u0e32\\u0e19\", \"2\", \"\\u0e04\\u0e19\\u0e25\\u0e30\", \"\\u0e1e\\u0e19\\u0e31\\u0e01\\u0e07\\u0e32\\u0e19\", \"\\u0e40\\u0e21\\u0e19\\u0e39\", \"\\u0e44\\u0e2d\\u0e15\\u0e34\\u0e21\", \"\\u0e40\\u0e19\\u0e37\\u0e49\\u0e2d\\u0e2b\\u0e21\\u0e39\", \"\\u0e40\\u0e2a\\u0e34\\u0e23\\u0e4c\\u0e1f\", \"\\u0e40\\u0e2b\\u0e47\\u0e14\", \"\\u0e2a\\u0e38\\u0e01\\u0e35\\u0e49\", \"\\u0e1e\\u0e2d\\u0e19\", \"\\u0e0b\\u0e36\", \"\\u0e40\\u0e04\\u0e47\\u0e21\", \"\\u0e41\\u0e19\\u0e27\", \"600\", \"\\u0e44\\u0e1c\\u0e48\", \"\\u0e44\\u0e14\\u0e1f\\u0e39\\u0e01\\u0e38\", \"\\u0e44\\u0e21\\u0e49\", \"\\u0e19\\u0e49\\u0e33\\u0e08\\u0e34\\u0e49\\u0e21\", \"500\", \"\\u0e15\\u0e2d\\u0e19\\u0e17\\u0e35\\u0e48\", \"\\u0e2a\\u0e38\\u0e01\\u0e35\\u0e49\\u0e22\\u0e32\\u0e01\\u0e35\\u0e49\", \"\\u0e15\\u0e33\", \"\\u0e42\\u0e0a\", \"\\u0e07\\u0e27\\u0e14\", \"\\u0e01\\u0e32\\u0e41\\u0e1f\", \"\\u0e17\\u0e31\\u0e48\\u0e27\\u0e44\\u0e1b\", \"\\u0e40\\u0e1b\\u0e47\\u0e19\\u0e1b\\u0e01\\u0e15\\u0e34\", \"\\u0e22\\u0e38\", \"\\u0e2d\\u0e2d\\u0e2a\\u0e40\\u0e15\\u0e23\\u0e40\\u0e25\\u0e35\\u0e22\", \"\\u0e44\\u0e2d\\u0e28\\u0e04\\u0e23\\u0e35\\u0e21\", \"\\u0e23\\u0e49\\u0e2d\\u0e19\", \"\\u0e25\\u0e38\\u0e22\", \"\\u0e44\\u0e02\\u0e48\\u0e44\\u0e01\\u0e48\", \"\\u0e40\\u0e1f\\u0e23\\u0e19\\u0e44\\u0e0a\\u0e2a\\u0e4c\", \"\\u0e1a\\u0e4a\\u0e27\\u0e22\", \"\\u0e40\\u0e19\\u0e37\\u0e49\\u0e2d\\u0e27\\u0e31\\u0e27\", \"\\u0e14\\u0e33\", \"\\u0e19\\u0e49\\u0e33\", \"\\u0e0d\\u0e35\\u0e48\\u0e1b\\u0e38\\u0e48\\u0e19\", \"\\u0e42\\u0e21\", \"\", \"\\u0e0a\\u0e2d\\u0e1a\", \"\\u0e44\\u0e01\\u0e48\", \"\\u0e0b\\u0e38\\u0e1b\", \"\\u0e0a\\u0e32\\u0e1a\\u0e39\", \"\\u0e40\\u0e25\\u0e37\\u0e2d\\u0e01\", \"\\u0e23\\u0e2a\\u0e0a\\u0e32\\u0e15\\u0e34\", \"\\u0e2b\\u0e27\\u0e32\\u0e19\", \"\\u0e14\\u0e35\\u0e21\\u0e32\\u0e01\", \"\\u0e40\\u0e1b\\u0e47\\u0e14\", \"\\u0e40\\u0e19\\u0e37\\u0e49\\u0e2d\", \"\\u0e2a\\u0e31\\u0e48\\u0e07\", \"\\u0e2d\\u0e23\\u0e48\\u0e2d\\u0e22\", \"\\u0e17\\u0e32\\u0e19\", \"2\", \"\\u0e1c\\u0e31\\u0e01\", \"\\u0e44\\u0e2d\\u0e15\\u0e34\\u0e21\", \"\\u0e23\\u0e32\\u0e04\\u0e32\", \"\\u0e25\\u0e2d\\u0e07\", \"\\u0e14\\u0e35\", \"\\u0e01\\u0e34\\u0e19\", \"\\u0e1a\\u0e32\\u0e17\", \"\\u0e02\\u0e2d\\u0e07\\u0e2b\\u0e27\\u0e32\\u0e19\", \"\\u0e2d\\u0e32\\u0e2b\\u0e32\\u0e23\", \"\\u0e04\\u0e38\\u0e49\\u0e21\", \"\\u0e1e\\u0e19\\u0e31\\u0e01\\u0e07\\u0e32\\u0e19\", \"\\u0e2a\\u0e32\\u0e02\\u0e32\", \"\\u0e16\\u0e39\\u0e01\\u0e2b\\u0e27\\u0e22\", \"\\u0e2a\\u0e31\\u0e1b\\u0e14\\u0e32\\u0e2b\\u0e4c\", \"\\u0e40\\u0e07\\u0e34\\u0e19\", \"\\u0e41\\u0e25\\u0e01\", \"\\u0e2b\\u0e27\\u0e22\", \"\\u0e19\\u0e36\\u0e07\", \"6\", \"\\u0e04\\u0e48\\u0e32\\u0e19\\u0e49\\u0e33\", \"\\u0e2b\\u0e31\\u0e27\", \"\\u0e0b\\u0e35\", \"300\", \"\\u0e44\\u0e14\\u0e49\\u0e40\\u0e27\\u0e25\\u0e32\", \"\\u0e17\\u0e2d\\u0e19\", \"\\u0e25\\u0e2d\\u0e15\\u0e40\\u0e15\\u0e2d\\u0e23\\u0e35\\u0e48\", \"\\u0e0a\\u0e48\\u0e2d\\u0e07\", \"\\u0e1f\\u0e23\\u0e35\", \"\\u0e01\\u0e33\", \"\\u0e42\\u0e17\\u0e2a\", \"\\u0e23\\u0e31\\u0e1a\\u0e1b\\u0e23\\u0e30\\u0e01\\u0e31\\u0e19\", \"\\u0e2e\\u0e31\\u0e19\", \"\\u0e0b\\u0e36\\u0e1b\", \"\\u0e1f\\u0e39\\u0e49\\u0e14\", \"10\", \"\\u0e0a\\u0e32\\u0e15\", \"\\u0e04\\u0e23\\u0e35\\u0e21\", \"\\u0e22\", \"\\u0e1a\\u0e23\\u0e32\", \"\\u0e40\", \"\\u0e40\\u0e23\\u0e34\\u0e2a\", \"\\u0e40\\u0e0b\\u0e15\", \"\\u0e1a\\u0e38\\u0e1f\\u0e40\\u0e1f\\u0e48\\u0e15\\u0e4c\", \"\\u0e42\\u0e1b\\u0e23\\u0e42\\u0e21\\u0e0a\\u0e31\\u0e48\\u0e19\", \"\\u0e0a\\u0e38\\u0e14\", \"\\u0e2d\\u0e23\\u0e48\\u0e2d\\u0e22\", \"\\u0e19\\u0e49\\u0e33\", \"\\u0e02\\u0e2d\\u0e07\\u0e2b\\u0e27\\u0e32\\u0e19\", \"\\u0e41\\u0e19\\u0e30\\u0e19\\u0e33\", \"\\u0e1f\\u0e40\\u0e1f\\u0e48\", \"\\u0e40\\u0e25\\u0e37\\u0e2d\\u0e01\", \"\\u0e17\\u0e32\\u0e19\", \"\\u0e14\\u0e35\", \"\\u0e1a\\u0e38\", \"\\u0e04\\u0e19\\u0e25\\u0e30\", \"\\u0e1e\\u0e34\\u0e0b\\u0e0b\\u0e48\\u0e32\", \"\\u0e0b\\u0e38\\u0e1b\", \"\\u0e1a\\u0e32\\u0e17\", \"\\u0e01\\u0e34\\u0e19\", \"\\u0e23\\u0e32\\u0e04\\u0e32\", \"\\u0e2d\\u0e32\\u0e2b\\u0e32\\u0e23\", \"\\u0e0a\\u0e32\\u0e1a\\u0e39\", \"\\u0e40\\u0e19\\u0e37\\u0e49\\u0e2d\", \"\\u0e44\\u0e2d\\u0e15\\u0e34\\u0e21\", \"2\", \"\\u0e1c\\u0e31\\u0e01\", \"\\u0e0a\\u0e2d\\u0e1a\", \"\\u0e23\\u0e2a\\u0e0a\\u0e32\\u0e15\\u0e34\", \"\\u0e14\\u0e35\\u0e21\\u0e32\\u0e01\", \"\\u0e2b\\u0e21\\u0e39\", \"\\u0e19\\u0e38\\u0e48\\u0e21\", \"\\u0e23\\u0e2a\", \"\\u0e2a\\u0e32\\u0e02\\u0e32\", \"\", \"\\u0e04\\u0e38\\u0e49\\u0e21\"], \"Freq\": [23.0, 20.0, 17.0, 7.0, 15.0, 23.0, 7.0, 19.0, 14.0, 8.0, 18.0, 17.0, 9.0, 5.0, 14.0, 8.0, 21.0, 4.0, 17.0, 4.0, 4.0, 9.0, 3.0, 3.0, 6.0, 6.0, 4.0, 16.0, 5.0, 7.0, 7.937890230855936, 3.869398369061079, 3.8799114602147053, 3.25826143549311, 3.279126525393301, 2.6452680373517126, 4.283358475091407, 4.290853452618602, 4.292134388090675, 2.0222983369425047, 2.0352435611242092, 2.0422273907715565, 2.0461712283254228, 2.046935302432622, 2.047962057497704, 2.0490665717004513, 2.0612866013437885, 1.3941922134953142, 1.4015616337052401, 1.4030687395723496, 1.4032047483866168, 1.407289472120016, 1.4080658093170264, 1.4088815834960424, 1.4101576416028496, 1.410766197434719, 1.4126612628703936, 1.416457246580062, 1.4169261704120382, 1.4186308792490563, 5.935610830616665, 6.43394266678598, 4.569798333363092, 3.609315513978792, 2.5031273994725285, 2.5070708189665147, 2.9528971212838195, 2.9785066334079224, 10.345716700102036, 8.428483499941356, 6.403018498761755, 9.234043082558056, 10.487988608783516, 7.268159975464569, 6.6650366923814826, 6.848502549390699, 3.296378184398055, 3.5231700951225995, 3.186606808194684, 3.167322820760348, 3.161594285579106, 6.0399730693870515, 5.173206733284284, 4.155417101680392, 5.888978759370934, 4.904191332101053, 5.979997641600641, 3.490439072297363, 3.517488103941322, 3.7387928393886307, 3.3297831197497216, 5.465849858492481, 1.5155318193228664, 1.0470514598869767, 1.047525661991517, 1.0476496363979328, 1.059121510221087, 1.0619072640705156, 1.0636840130635168, 1.0668619175353449, 1.073336562472519, 1.0745982467441284, 0.5799310262835695, 0.5809912929258078, 0.5811980528733498, 0.5812735793867321, 0.5813356073709948, 0.5814265491230695, 0.5816200144467657, 0.5817496574197907, 0.5817725355915009, 0.5819384737032463, 0.5819874517499914, 0.5821902967162783, 0.582294533092199, 0.5823014658715051, 0.5823347839932294, 0.5823700596055813, 0.5823810297093068, 0.5823950583921381, 0.5825171976510906, 2.2357128486266142, 3.2974210195878793, 1.7727252078918199, 1.9079705190930007, 1.7349684761694517, 2.520809287346946, 6.91111379987997, 5.030704911948047, 5.203477602219727, 5.740873702939967, 3.4004877948585266, 6.220432154334422, 1.2716695128627566, 6.4720603970490584, 4.765178485777324, 6.177735368764822, 4.128241050406776, 4.94554330344822, 5.044901286476407, 4.853933720821019, 4.764686176884478, 3.096090172301445, 2.998261641950303, 2.512861386026161, 3.2277314170087434, 2.3262275414961002, 1.9929528540761816, 1.6402570865185722, 1.9040444453908751, 1.8330540902896875, 1.7120418565661348, 1.3862031690752417, 1.3865833215756789, 1.4024735869331482, 0.9496650879922077, 0.9514986483743414, 0.9515979164806113, 0.961963417089265, 0.9627409149167923, 0.9676193794795631, 0.97530573282697, 0.9767991208531849, 0.9791810095996425, 2.847404177030698, 0.5166858879135805, 0.5173731234011799, 0.5176142664400878, 0.5177756879792181, 0.5178355899704931, 0.518070729165173, 0.5180705927141679, 0.518093243581028, 0.5181388523295102, 0.518297681299542, 0.5183096889879981, 0.5183801659321746, 0.5183931970031695, 0.5185247016594137, 0.5186849974777513, 0.5196786336974869, 0.519986637728934, 2.019979472511349, 2.6629704487784047, 8.36523748768506, 1.5874348347714753, 2.1064266423343785, 3.4885811736348638, 2.9275563161806595, 1.8030222378209009, 4.6780005704297905, 5.296977807196869, 5.120606695938773, 4.047754663850759, 1.7120740951409368, 1.986490165858516, 1.1546721483253206, 4.486409714053689, 2.671228463612022, 4.713608824742096, 5.03522875619235, 2.1415169286310123, 2.1405187895281057, 2.2551104801309876, 3.36510966096775, 1.8860634541035814, 3.254507115501365, 3.3715959959500834, 2.72467877845992, 2.0767384513329015, 2.43676224528963, 2.0179297055115044, 1.6994556519857225, 1.7910432040759696, 0.28108591453305243, 0.28156033667404906, 0.2817804300110665, 0.28180044370950813, 0.281972395213168, 0.28197890396609965, 0.2820051110153485, 0.2820322355980502, 0.28204089482001204, 0.2821926892606283, 0.2823755364740415, 0.28238562934202355, 0.28257647630022936, 0.2825773078149211, 0.28263820909785814, 0.28268354098501614, 0.2827015762519499, 0.282817902290027, 0.2830076883501779, 0.283115985970542, 0.2832470498897065, 0.2832674363361134, 0.2835605596013986, 0.28378446643682964, 0.28415666961658775, 0.2842965934681569, 0.28438983780530913, 0.28453102326537605, 0.2845697317079208, 0.2846318945993557, 1.3710097961711065, 0.6106930625063929, 0.6157943764670646, 2.510757120602495, 2.519851712187765, 1.2995216681792814, 0.6649400487679005, 0.6698149040032252, 1.952544448385708, 2.2948931540362825, 1.9266842267820923, 0.7820205860724758, 0.7797683281747794, 0.7135355450720335, 1.5237676469128951, 1.451096359533539, 1.6019972372583142, 1.4049228648158911, 1.297435770565766, 1.2724413564666552, 1.2279047414290034, 0.8138313561932745, 0.7537165141170276, 0.7529152780292716, 0.784850947391348, 0.9945227674130571, 0.6701812865801413, 0.6282418646726403, 0.689943466164018, 0.6590825725503472, 0.7602632873410815, 0.6972455414573414, 0.6876611590457387], \"Total\": [23.0, 20.0, 17.0, 7.0, 15.0, 23.0, 7.0, 19.0, 14.0, 8.0, 18.0, 17.0, 9.0, 5.0, 14.0, 8.0, 21.0, 4.0, 17.0, 4.0, 4.0, 9.0, 3.0, 3.0, 6.0, 6.0, 4.0, 16.0, 5.0, 7.0, 10.144164273937202, 5.035916647822492, 5.065360263360727, 4.290834451008783, 4.350426917362505, 3.54048556988646, 5.751162402274781, 5.780305145394137, 5.786069043828333, 2.7625715406322877, 2.798768423659561, 2.8184925107561036, 2.8296112256298134, 2.8317624803420567, 2.8346560937247536, 2.837751419700554, 2.8725286445003997, 1.9700088878067716, 1.9907187964692368, 1.9950126624261166, 1.9953472652005568, 2.006959682715728, 2.0091173976136187, 2.011249206877543, 2.0148315920102355, 2.0165656511212267, 2.0219001859503405, 2.0327680901103475, 2.033872057297012, 2.0386704077635005, 8.950169338248067, 10.084899086456211, 7.305926030698398, 5.680000430985821, 3.8982742486742157, 3.9162402724981673, 4.806845612885257, 4.8793986671100384, 21.539742087644857, 16.927860001574075, 12.182056407187547, 19.179920601725993, 23.995845887776973, 17.928017734395482, 17.17594292110509, 18.46282299953063, 6.131656864104876, 6.916117799220527, 5.870283649875316, 5.8147967091847725, 5.798706681725019, 17.96705793453255, 14.37968678322579, 9.859269608187939, 20.024458504595493, 14.074709813771644, 23.337147238522526, 7.080847460908483, 7.346063562077805, 15.144038658951043, 8.110766812640119, 7.021845857273396, 2.305237026750319, 1.6719933938604106, 1.6737294646508993, 1.6741307593486259, 1.7166681417490697, 1.7270618810476297, 1.7336601091894506, 1.7821446378875565, 1.8092060723570784, 1.814314100319879, 1.0438641957303174, 1.047784300073647, 1.048548402155679, 1.0488289390317, 1.0490566769381855, 1.0493937182193522, 1.0501094908995974, 1.0505877975735496, 1.0506729137678064, 1.0513072380433508, 1.0514884187348068, 1.052218134491541, 1.0526168311058235, 1.0526514794907038, 1.052754158842709, 1.0528965970938589, 1.0529371858087238, 1.0529984597463677, 1.053441300792661, 4.404041016735581, 6.665084525815264, 3.44785102428746, 4.139946328175469, 3.812902024875703, 6.006794984120504, 20.024458504595493, 14.37968678322579, 15.144038658951043, 17.17594292110509, 9.056121670566014, 21.539742087644857, 2.8623706006196237, 23.337147238522526, 16.927860001574075, 23.995845887776973, 14.074709813771644, 17.928017734395482, 18.46282299953063, 17.96705793453255, 19.179920601725993, 9.752634612735307, 9.859269608187939, 7.346063562077805, 12.182056407187547, 8.769123268049324, 6.978336727750699, 4.609235804746803, 7.168176559315586, 7.080847460908483, 8.110766812640119, 2.3126414272140416, 2.314219711007104, 2.3810452704907914, 1.647210208034244, 1.6544095201308764, 1.6548090145939425, 1.697771439557361, 1.7010098218126475, 1.721567968229669, 1.7536401487568205, 1.7599302058536332, 1.770293605879795, 5.3415395778430295, 0.99599558421248, 0.9988414116393233, 0.9998402835862085, 1.0005086590157755, 1.000756373643579, 1.0017308904299873, 1.0017306614639971, 1.0018242589735327, 1.0020124610752486, 1.0026710005253492, 1.0027202469838419, 1.0030125277213422, 1.0030662524604115, 1.0036107020665779, 1.0042754089827317, 1.008391126543607, 1.0096674196533633, 4.200523228878389, 6.25248716737072, 23.337147238522526, 3.6803300992291934, 5.22300009379953, 9.752634612735307, 8.206178127586666, 4.636263377311705, 15.144038658951043, 18.46282299953063, 17.96705793453255, 14.074709813771644, 4.731698888657703, 5.92342891707401, 2.9020415298436517, 17.928017734395482, 9.056121670566014, 20.024458504595493, 23.995845887776973, 6.978336727750699, 7.101946710944529, 8.110766812640119, 17.17594292110509, 6.006794984120504, 19.179920601725993, 21.539742087644857, 14.37968678322579, 8.769123268049324, 16.927860001574075, 9.859269608187939, 7.168176559315586, 12.182056407187547, 0.8721510526274365, 0.8758586667802419, 0.877576714558995, 0.8777366257787234, 0.8790750591860059, 0.8791234226149098, 0.8793273304622, 0.8795447762573214, 0.8796099238361254, 0.8808033263705779, 0.8822456947200203, 0.8823068922103365, 0.8838049248706865, 0.8838095823183602, 0.8842875133376003, 0.8846371298574873, 0.8847946187447452, 0.8856917080167095, 0.887171730177633, 0.8880415194817087, 0.8890688619177513, 0.8892123996230076, 0.8915177842396642, 0.8931843618116525, 0.8961227131620388, 0.8971955675667203, 0.897916851323425, 0.8990379392390867, 0.8993242687182594, 0.8998214669375953, 7.278571606748405, 2.4840192390105322, 2.5239438002731616, 20.024458504595493, 23.337147238522526, 8.769123268049324, 3.268330805396198, 3.3063574685603103, 17.96705793453255, 23.995845887776973, 19.179920601725993, 4.583600887864502, 4.609235804746803, 4.139946328175469, 15.144038658951043, 14.37968678322579, 21.539742087644857, 17.17594292110509, 16.927860001574075, 18.46282299953063, 17.928017734395482, 8.110766812640119, 6.978336727750699, 7.101946710944529, 8.206178127586666, 14.074709813771644, 5.92342891707401, 5.235120693736029, 6.916117799220527, 6.2271927639585085, 12.182056407187547, 9.752634612735307, 9.859269608187939], \"Category\": [\"Default\", \"Default\", \"Default\", \"Default\", \"Default\", \"Default\", \"Default\", \"Default\", \"Default\", \"Default\", \"Default\", \"Default\", \"Default\", \"Default\", \"Default\", \"Default\", \"Default\", \"Default\", \"Default\", \"Default\", \"Default\", \"Default\", \"Default\", \"Default\", \"Default\", \"Default\", \"Default\", \"Default\", \"Default\", \"Default\", \"Topic1\", \"Topic1\", \"Topic1\", \"Topic1\", \"Topic1\", \"Topic1\", \"Topic1\", \"Topic1\", \"Topic1\", \"Topic1\", \"Topic1\", \"Topic1\", \"Topic1\", \"Topic1\", \"Topic1\", \"Topic1\", \"Topic1\", \"Topic1\", \"Topic1\", \"Topic1\", \"Topic1\", \"Topic1\", \"Topic1\", \"Topic1\", \"Topic1\", \"Topic1\", \"Topic1\", \"Topic1\", \"Topic1\", \"Topic1\", \"Topic1\", \"Topic1\", \"Topic1\", \"Topic1\", \"Topic1\", \"Topic1\", \"Topic1\", \"Topic1\", \"Topic1\", \"Topic1\", \"Topic1\", \"Topic1\", \"Topic1\", \"Topic1\", \"Topic1\", \"Topic1\", \"Topic1\", \"Topic1\", \"Topic1\", \"Topic1\", \"Topic1\", \"Topic1\", \"Topic1\", \"Topic1\", \"Topic1\", \"Topic1\", \"Topic1\", \"Topic1\", \"Topic1\", \"Topic1\", \"Topic1\", \"Topic2\", \"Topic2\", \"Topic2\", \"Topic2\", \"Topic2\", \"Topic2\", \"Topic2\", \"Topic2\", \"Topic2\", \"Topic2\", \"Topic2\", \"Topic2\", \"Topic2\", \"Topic2\", \"Topic2\", \"Topic2\", \"Topic2\", \"Topic2\", \"Topic2\", \"Topic2\", \"Topic2\", \"Topic2\", \"Topic2\", \"Topic2\", \"Topic2\", \"Topic2\", \"Topic2\", \"Topic2\", \"Topic2\", \"Topic2\", \"Topic2\", \"Topic2\", \"Topic2\", \"Topic2\", \"Topic2\", \"Topic2\", \"Topic2\", \"Topic2\", \"Topic2\", \"Topic2\", \"Topic2\", \"Topic2\", \"Topic2\", \"Topic2\", \"Topic2\", \"Topic2\", \"Topic2\", \"Topic2\", \"Topic2\", \"Topic2\", \"Topic2\", \"Topic2\", \"Topic2\", \"Topic2\", \"Topic2\", \"Topic2\", \"Topic2\", \"Topic2\", \"Topic2\", \"Topic2\", \"Topic2\", \"Topic3\", \"Topic3\", \"Topic3\", \"Topic3\", \"Topic3\", \"Topic3\", \"Topic3\", \"Topic3\", \"Topic3\", \"Topic3\", \"Topic3\", \"Topic3\", \"Topic3\", \"Topic3\", \"Topic3\", \"Topic3\", \"Topic3\", \"Topic3\", \"Topic3\", \"Topic3\", \"Topic3\", \"Topic3\", \"Topic3\", \"Topic3\", \"Topic3\", \"Topic3\", \"Topic3\", \"Topic3\", \"Topic3\", \"Topic3\", \"Topic3\", \"Topic3\", \"Topic3\", \"Topic3\", \"Topic3\", \"Topic3\", \"Topic3\", \"Topic3\", \"Topic3\", \"Topic3\", \"Topic3\", \"Topic3\", \"Topic3\", \"Topic3\", \"Topic3\", \"Topic3\", \"Topic3\", \"Topic3\", \"Topic3\", \"Topic3\", \"Topic3\", \"Topic3\", \"Topic3\", \"Topic3\", \"Topic3\", \"Topic3\", \"Topic3\", \"Topic3\", \"Topic3\", \"Topic3\", \"Topic3\", \"Topic3\", \"Topic4\", \"Topic4\", \"Topic4\", \"Topic4\", \"Topic4\", \"Topic4\", \"Topic4\", \"Topic4\", \"Topic4\", \"Topic4\", \"Topic4\", \"Topic4\", \"Topic4\", \"Topic4\", \"Topic4\", \"Topic4\", \"Topic4\", \"Topic4\", \"Topic4\", \"Topic4\", \"Topic4\", \"Topic4\", \"Topic4\", \"Topic4\", \"Topic4\", \"Topic4\", \"Topic4\", \"Topic4\", \"Topic4\", \"Topic4\", \"Topic4\", \"Topic4\", \"Topic4\", \"Topic4\", \"Topic4\", \"Topic4\", \"Topic4\", \"Topic4\", \"Topic4\", \"Topic4\", \"Topic4\", \"Topic4\", \"Topic4\", \"Topic4\", \"Topic4\", \"Topic4\", \"Topic4\", \"Topic4\", \"Topic4\", \"Topic4\", \"Topic4\", \"Topic4\", \"Topic4\", \"Topic4\", \"Topic4\", \"Topic4\", \"Topic4\", \"Topic4\", \"Topic4\", \"Topic4\", \"Topic4\", \"Topic4\", \"Topic4\"], \"logprob\": [30.0, 29.0, 28.0, 27.0, 26.0, 25.0, 24.0, 23.0, 22.0, 21.0, 20.0, 19.0, 18.0, 17.0, 16.0, 15.0, 14.0, 13.0, 12.0, 11.0, 10.0, 9.0, 8.0, 7.0, 6.0, 5.0, 4.0, 3.0, 2.0, 1.0, -4.3228, -5.0414, -5.0386, -5.2133, -5.2069, -5.4217, -4.9397, -4.938, -4.9377, -5.6902, -5.6838, -5.6804, -5.6785, -5.6781, -5.6776, -5.6771, -5.6711, -6.0621, -6.0569, -6.0558, -6.0557, -6.0528, -6.0522, -6.0517, -6.0508, -6.0503, -6.049, -6.0463, -6.046, -6.0448, -4.6135, -4.5329, -4.875, -5.1109, -5.4769, -5.4753, -5.3117, -5.303, -4.0579, -4.2628, -4.5377, -4.1716, -4.0442, -4.411, -4.4976, -4.4704, -5.2016, -5.1351, -5.2355, -5.2416, -5.2434, -4.5961, -4.751, -4.97, -4.6214, -4.8044, -4.606, -5.1444, -5.1367, -5.0757, -5.1915, -4.1603, -5.443, -5.8128, -5.8124, -5.8123, -5.8014, -5.7987, -5.7971, -5.7941, -5.788, -5.7869, -6.4037, -6.4018, -6.4015, -6.4013, -6.4012, -6.4011, -6.4007, -6.4005, -6.4005, -6.4002, -6.4001, -6.3998, -6.3996, -6.3996, -6.3995, -6.3995, -6.3994, -6.3994, -6.3992, -5.0542, -4.6657, -5.2863, -5.2128, -5.3078, -4.9342, -3.9257, -4.2432, -4.2095, -4.1112, -4.6349, -4.031, -5.6185, -3.9913, -4.2975, -4.0379, -4.441, -4.2603, -4.2404, -4.279, -4.2976, -4.7287, -4.7608, -4.9374, -4.687, -5.0146, -5.1692, -5.364, -5.2148, -5.2528, -5.3211, -5.3537, -5.3534, -5.342, -5.7319, -5.73, -5.7299, -5.719, -5.7182, -5.7132, -5.7053, -5.7037, -5.7013, -4.6339, -6.3406, -6.3393, -6.3388, -6.3385, -6.3384, -6.3379, -6.3379, -6.3379, -6.3378, -6.3375, -6.3374, -6.3373, -6.3373, -6.337, -6.3367, -6.3348, -6.3342, -4.9772, -4.7008, -3.5562, -5.2181, -4.9353, -4.4308, -4.6061, -5.0908, -4.1374, -4.0131, -4.047, -4.2821, -5.1426, -4.9939, -5.5364, -4.1792, -4.6977, -4.1298, -4.0638, -4.9187, -4.9192, -4.8671, -4.4668, -5.0458, -4.5002, -4.4649, -4.6779, -4.9495, -4.7896, -4.9782, -5.15, -5.0975, -6.0825, -6.0808, -6.08, -6.08, -6.0793, -6.0793, -6.0792, -6.0791, -6.0791, -6.0786, -6.0779, -6.0779, -6.0772, -6.0772, -6.077, -6.0768, -6.0768, -6.0763, -6.0757, -6.0753, -6.0748, -6.0748, -6.0737, -6.0729, -6.0716, -6.0711, -6.0708, -6.0703, -6.0702, -6.07, -4.4978, -5.3066, -5.2982, -3.8928, -3.8892, -4.5514, -5.2215, -5.2142, -4.1443, -3.9827, -4.1576, -5.0593, -5.0622, -5.1509, -4.3922, -4.4411, -4.3421, -4.4734, -4.553, -4.5725, -4.6081, -5.0194, -5.0961, -5.0972, -5.0557, -4.8189, -5.2136, -5.2782, -5.1845, -5.2303, -5.0875, -5.174, -5.1879], \"loglift\": [30.0, 29.0, 28.0, 27.0, 26.0, 25.0, 24.0, 23.0, 22.0, 21.0, 20.0, 19.0, 18.0, 17.0, 16.0, 15.0, 14.0, 13.0, 12.0, 11.0, 10.0, 9.0, 8.0, 7.0, 6.0, 5.0, 4.0, 3.0, 2.0, 1.0, 0.5792, 0.561, 0.5578, 0.5492, 0.5418, 0.533, 0.5298, 0.5265, 0.5258, 0.5125, 0.5059, 0.5023, 0.5003, 0.4999, 0.4994, 0.4988, 0.4926, 0.4787, 0.4735, 0.4725, 0.4724, 0.4695, 0.469, 0.4685, 0.4676, 0.4672, 0.4659, 0.4632, 0.463, 0.4618, 0.4138, 0.375, 0.3552, 0.371, 0.3815, 0.3784, 0.3372, 0.3309, 0.0911, 0.1271, 0.1813, 0.0935, -0.0032, -0.0784, -0.1222, -0.1673, 0.2038, 0.15, 0.2135, 0.2169, 0.2179, -0.2657, -0.1979, -0.0395, -0.3994, -0.2298, -0.5372, 0.1171, 0.088, -0.5744, -0.0658, 1.1096, 0.9407, 0.8921, 0.8915, 0.8914, 0.8772, 0.8737, 0.8716, 0.847, 0.838, 0.8363, 0.7723, 0.7704, 0.77, 0.7699, 0.7698, 0.7696, 0.7693, 0.769, 0.769, 0.7687, 0.7686, 0.7682, 0.768, 0.768, 0.768, 0.7679, 0.7679, 0.7679, 0.7676, 0.6821, 0.6564, 0.6949, 0.5855, 0.5727, 0.4918, 0.2963, 0.3098, 0.2918, 0.2642, 0.3806, 0.118, 0.5488, 0.0775, 0.0925, 0.0032, 0.1336, 0.0722, 0.0627, 0.0514, -0.0325, 0.2127, 0.1697, 0.2874, 0.0319, 0.0331, 0.1069, 0.3269, 0.0344, 0.0087, -0.1954, 1.0268, 1.0264, 1.0093, 0.9879, 0.9855, 0.9853, 0.9706, 0.9695, 0.9625, 0.9519, 0.9499, 0.9465, 0.9095, 0.8823, 0.8808, 0.8803, 0.8799, 0.8798, 0.8793, 0.8793, 0.8792, 0.8791, 0.8788, 0.8787, 0.8786, 0.8786, 0.8783, 0.8779, 0.8757, 0.8751, 0.8065, 0.6851, 0.5127, 0.6978, 0.6306, 0.5106, 0.5079, 0.5942, 0.3639, 0.29, 0.2834, 0.2924, 0.5221, 0.4461, 0.617, 0.1533, 0.3177, 0.0921, -0.0228, 0.3574, 0.3393, 0.2587, -0.0914, 0.3802, -0.2352, -0.3159, -0.1248, 0.0982, -0.3996, -0.0477, 0.0993, -0.3785, 1.2732, 1.2707, 1.2695, 1.2694, 1.2685, 1.2684, 1.2683, 1.2681, 1.2681, 1.2673, 1.2663, 1.2662, 1.2652, 1.2652, 1.2649, 1.2647, 1.2645, 1.2639, 1.2629, 1.2624, 1.2617, 1.2616, 1.26, 1.2589, 1.257, 1.2563, 1.2558, 1.255, 1.2548, 1.2545, 0.7361, 1.0025, 0.9948, 0.3291, 0.1797, 0.4963, 0.8132, 0.8089, 0.1861, 0.0583, 0.1074, 0.6372, 0.6287, 0.6473, 0.1091, 0.112, -0.1931, -0.098, -0.1631, -0.2693, -0.2755, 0.1063, 0.18, 0.1613, 0.0584, -0.2444, 0.2264, 0.2853, 0.1005, 0.1597, -0.3685, -0.2326, -0.2574]}, \"token.table\": {\"Topic\": [1, 2, 3, 4, 1, 2, 3, 1, 1, 2, 1, 2, 3, 4, 1, 2, 3, 3, 1, 1, 1, 2, 3, 1, 2, 3, 4, 1, 2, 3, 2, 1, 2, 3, 4, 2, 1, 2, 3, 4, 1, 2, 3, 4, 1, 2, 1, 2, 3, 4, 3, 1, 2, 3, 1, 2, 3, 4, 1, 1, 2, 3, 4, 1, 2, 3, 2, 1, 3, 4, 3, 1, 2, 3, 4, 1, 2, 3, 1, 2, 3, 1, 2, 3, 1, 2, 3, 4, 1, 2, 3, 4, 1, 2, 3, 3, 2, 1, 1, 3, 2, 2, 2, 1, 2, 3, 2, 3, 1, 2, 3, 4, 1, 2, 3, 1, 1, 1, 1, 2, 3, 4, 1, 2, 3, 4, 1, 2, 3, 2, 2, 1, 2, 3, 2, 1, 2, 3, 4, 1, 2, 3, 4, 1, 1, 2, 3, 4, 3, 1, 2, 1, 2, 3, 1, 2, 3, 4, 1, 1, 2, 3, 4, 3, 1, 2, 3, 4, 2, 1, 2, 3, 4, 1, 2, 2, 3, 1, 2, 3, 4, 1, 2, 3, 4, 1, 2, 1, 2, 3, 4, 2, 3, 1, 2, 3, 3, 1, 2, 3, 2, 1, 2, 3, 4, 1, 2, 3, 4, 1, 2, 3, 1, 2, 3, 3, 3, 1, 2, 1, 2, 3, 1, 2, 3, 4, 2, 1, 2, 3, 1, 1, 1, 2, 3, 4, 3, 1, 2, 3, 4, 2, 1, 2, 3, 1, 2, 3, 2, 1, 1, 2, 3, 1, 1, 2, 3, 4, 1, 2, 3, 3, 2, 1, 2, 3, 3, 3, 1, 2, 3, 1, 1, 2, 3, 4, 1, 2, 3, 3, 3, 1, 2, 3, 4, 2, 2, 1, 2, 1, 3, 1, 3, 4, 1, 2, 3, 1, 1, 2, 1, 2, 3, 4, 3, 3, 2, 3, 3, 2, 1, 2, 3, 4, 1, 3, 1, 2, 3], \"Freq\": [0.2050727910372378, 0.3076091865558567, 0.3076091865558567, 0.1025363955186189, 0.5159251733188445, 0.3439501155458963, 0.17197505777294814, 0.7055529608785767, 0.29003573325986787, 0.5800714665197357, 0.2866012458307744, 0.2866012458307744, 0.2866012458307744, 0.1433006229153872, 0.26226742609065573, 0.5245348521813115, 1.0040205156036772, 0.5808658260691995, 0.7068108798426331, 0.4916730117866835, 0.7695713047947526, 0.2565237682649175, 0.9982723285504032, 0.46425811225176994, 0.278554867351062, 0.139277433675531, 0.092851622450354, 0.7886307618808899, 0.09857884523511123, 0.09857884523511123, 0.9517709906634132, 0.3421094570457948, 0.2280729713638632, 0.2280729713638632, 0.1140364856819316, 0.9503732802354959, 0.5949489378686855, 0.19831631262289517, 0.09915815631144759, 0.09915815631144759, 0.2169557042341279, 0.4339114084682558, 0.2169557042341279, 0.2169557042341279, 0.699164704267417, 0.9496690054426734, 0.40570956662733665, 0.30428217497050253, 0.20285478331366832, 0.10142739165683416, 0.9982721003749377, 0.2270641885940546, 0.4541283771881092, 0.2270641885940546, 0.36557822086689973, 0.12185940695563324, 0.36557822086689973, 0.12185940695563324, 0.7146000301750145, 0.37914028641112774, 0.27081449029366267, 0.27081449029366267, 0.05416289805873254, 0.6843759407076878, 0.27375037628307514, 0.13687518814153757, 0.5790180484982991, 0.3962053354324973, 0.3962053354324973, 0.3962053354324973, 0.6042993428129109, 0.26413033471991026, 0.3301629183998878, 0.3301629183998878, 0.13206516735995513, 0.544509309808996, 0.408381982356747, 0.136127327452249, 0.2717147573826162, 0.2717147573826162, 0.5434295147652324, 0.3198727076861854, 0.1599363538430927, 0.47980906152927816, 0.46924073289386264, 0.2606892960521459, 0.15641357763128755, 0.10427571842085837, 0.3376422724066279, 0.16882113620331396, 0.3376422724066279, 0.16882113620331396, 0.5173567425741131, 0.34490449504940873, 0.17245224752470437, 1.0011599322446745, 0.949982040099181, 0.8473414001504339, 0.6962506723228332, 0.9994915995866784, 0.5980884874737052, 0.9529311855390509, 0.950013310113475, 0.6241099135695524, 0.20803663785651746, 0.20803663785651746, 0.9543949073580427, 0.9981790628873354, 0.41673879915580764, 0.2500432794934846, 0.20836939957790382, 0.08334775983116152, 0.3493607710278773, 0.3493607710278773, 0.3493607710278773, 0.7095991890585047, 0.4958926080308826, 0.7239631519342471, 0.578359148314509, 0.14458978707862724, 0.2891795741572545, 0.14458978707862724, 0.25710083321991584, 0.25710083321991584, 0.3428011109598878, 0.12855041660995792, 0.187211942442222, 0.187211942442222, 0.561635827326666, 0.5973249069201034, 0.9498893845257268, 0.30007121323871927, 0.4501068198580789, 0.15003560661935963, 0.5768143332706297, 0.3477127197118512, 0.3477127197118512, 0.20862763182711072, 0.06954254394237024, 0.2181690824451122, 0.2181690824451122, 0.2181690824451122, 0.2181690824451122, 0.501165896002312, 0.4121687828444963, 0.27477918856299755, 0.13738959428149877, 0.13738959428149877, 0.9904251444929437, 0.49194003234560596, 0.597468122011329, 0.691315635831648, 0.172828908957912, 0.172828908957912, 0.42241939035909953, 0.2816129269060664, 0.2816129269060664, 0.1408064634530332, 0.4963193966014207, 0.418516476983435, 0.27901098465562335, 0.27901098465562335, 0.13950549232781168, 0.6044452645079632, 0.24154902521181082, 0.48309805042362164, 0.24154902521181082, 0.24154902521181082, 0.9522816512622221, 0.3024476359585616, 0.3024476359585616, 0.3024476359585616, 0.3024476359585616, 0.6955115714377781, 0.17387789285944452, 0.953699417160076, 0.9973361147136501, 0.4817580109874352, 0.16058600366247838, 0.16058600366247838, 0.16058600366247838, 0.35524711103511797, 0.2841976888280944, 0.2841976888280944, 0.0710494222070236, 0.7942943221130521, 0.9518481009484521, 0.40754676655327543, 0.34932579990280754, 0.17466289995140377, 0.05822096665046792, 0.9534443251758672, 0.9969431207032533, 0.16647813062433273, 0.4994343918729982, 0.33295626124866545, 0.9964022881988575, 0.670378377575419, 0.11172972959590316, 0.11172972959590316, 0.9579790207291967, 0.22084508940514253, 0.33126763410771376, 0.33126763410771376, 0.11042254470257126, 0.4925276816531513, 0.24626384082657565, 0.16417589388438375, 0.08208794694219188, 0.70422529867762, 0.176056324669405, 0.176056324669405, 0.6148298601263574, 0.2049432867087858, 0.2049432867087858, 0.6070870585445103, 1.0001597419271993, 0.7660408430676553, 0.2553469476892184, 0.5110485589676267, 0.3406990393117511, 0.17034951965587555, 0.38203512717348753, 0.19101756358674377, 0.38203512717348753, 0.19101756358674377, 0.8675897431768177, 0.42268116527748106, 0.21134058263874053, 0.42268116527748106, 0.6895874949713634, 0.4972034278897225, 0.2996335705468907, 0.34957249897137255, 0.24969464212240894, 0.14981678527344536, 0.9972871326852886, 0.47259370051832317, 0.295371062823952, 0.11814842512958079, 0.059074212564790396, 0.5511724788027009, 0.4982661129728549, 0.9532373435900869, 0.5890074345111599, 0.4892641689658464, 0.1630880563219488, 0.1630880563219488, 0.9510328237406934, 0.4977309943101264, 0.6920049892499672, 0.1730012473124918, 0.1730012473124918, 0.49458425640827397, 0.39045030542167936, 0.27889307530119956, 0.22311446024095963, 0.05577861506023991, 0.23806558028891486, 0.23806558028891486, 0.4761311605778297, 0.4324059874706409, 0.5527286334481374, 0.34458500669832776, 0.34458500669832776, 0.34458500669832776, 0.9979915807902339, 0.9916786985498686, 0.42367810019382846, 0.28245206679588564, 0.14122603339794282, 0.49051577743605856, 0.3339444900696872, 0.27828707505807265, 0.27828707505807265, 0.11131483002322906, 0.7896772967824622, 0.19741932419561556, 0.4321110892123632, 0.4199836149246653, 0.5878860822416474, 0.3059665803562307, 0.3059665803562307, 0.3059665803562307, 0.3059665803562307, 0.949269787740001, 0.5825237712987004, 0.5023311186761346, 0.949760881325041, 0.5076119230676714, 0.9992441980251147, 0.40257337153247386, 0.40257337153247386, 0.40257337153247386, 0.38292168563701434, 0.19146084281850717, 0.38292168563701434, 0.5012499513581579, 0.7047833668993617, 0.9497242698593985, 0.21569093871880957, 0.21569093871880957, 0.43138187743761913, 0.21569093871880957, 0.9957427923212195, 0.5682043507600132, 0.951196723292002, 0.5702424187247958, 0.5648780499904834, 0.5611216838075151, 0.369878714220299, 0.24658580948019934, 0.24658580948019934, 0.12329290474009967, 0.7062739244141741, 0.9969965203443808, 0.1424126960810705, 0.7120634804053524, 0.1424126960810705], \"Term\": [\"\", \"\", \"\", \"\", \"1\", \"1\", \"1\", \"15\", \"199\", \"199\", \"2\", \"2\", \"2\", \"2\", \"4\", \"4\", \"500\", \"600\", \"G\", \"Shabushi\", \"\\u0e01\\u0e25\\u0e31\\u0e1a\\u0e21\\u0e32\", \"\\u0e01\\u0e25\\u0e31\\u0e1a\\u0e21\\u0e32\", \"\\u0e01\\u0e32\\u0e41\\u0e1f\", \"\\u0e01\\u0e34\\u0e19\", \"\\u0e01\\u0e34\\u0e19\", \"\\u0e01\\u0e34\\u0e19\", \"\\u0e01\\u0e34\\u0e19\", \"\\u0e01\\u0e38\\u0e49\\u0e07\", \"\\u0e01\\u0e38\\u0e49\\u0e07\", \"\\u0e01\\u0e38\\u0e49\\u0e07\", \"\\u0e02\\u0e27\\u0e31\\u0e0d\\u0e43\\u0e08\", \"\\u0e02\\u0e2d\\u0e07\\u0e2b\\u0e27\\u0e32\\u0e19\", \"\\u0e02\\u0e2d\\u0e07\\u0e2b\\u0e27\\u0e32\\u0e19\", \"\\u0e02\\u0e2d\\u0e07\\u0e2b\\u0e27\\u0e32\\u0e19\", \"\\u0e02\\u0e2d\\u0e07\\u0e2b\\u0e27\\u0e32\\u0e19\", \"\\u0e02\\u0e49\\u0e2d\\u0e14\\u0e35\", \"\\u0e04\\u0e19\", \"\\u0e04\\u0e19\", \"\\u0e04\\u0e19\", \"\\u0e04\\u0e19\", \"\\u0e04\\u0e19\\u0e25\\u0e30\", \"\\u0e04\\u0e19\\u0e25\\u0e30\", \"\\u0e04\\u0e19\\u0e25\\u0e30\", \"\\u0e04\\u0e19\\u0e25\\u0e30\", \"\\u0e04\\u0e34\\u0e27\", \"\\u0e04\\u0e38\\u0e13\\u0e20\\u0e32\\u0e1e\\u0e14\\u0e35\", \"\\u0e04\\u0e38\\u0e49\\u0e21\", \"\\u0e04\\u0e38\\u0e49\\u0e21\", \"\\u0e04\\u0e38\\u0e49\\u0e21\", \"\\u0e04\\u0e38\\u0e49\\u0e21\", \"\\u0e07\\u0e27\\u0e14\", \"\\u0e08\\u0e48\\u0e32\\u0e22\", \"\\u0e08\\u0e48\\u0e32\\u0e22\", \"\\u0e08\\u0e48\\u0e32\\u0e22\", \"\\u0e0a\\u0e2d\\u0e1a\", \"\\u0e0a\\u0e2d\\u0e1a\", \"\\u0e0a\\u0e2d\\u0e1a\", \"\\u0e0a\\u0e2d\\u0e1a\", \"\\u0e0a\\u0e31\\u0e48\\u0e27\\u0e42\\u0e21\\u0e07\", \"\\u0e0a\\u0e32\\u0e1a\\u0e39\", \"\\u0e0a\\u0e32\\u0e1a\\u0e39\", \"\\u0e0a\\u0e32\\u0e1a\\u0e39\", \"\\u0e0a\\u0e32\\u0e1a\\u0e39\", \"\\u0e0a\\u0e34\", \"\\u0e0a\\u0e34\", \"\\u0e0a\\u0e34\", \"\\u0e0a\\u0e37\\u0e48\\u0e2d\", \"\\u0e0a\\u0e38\\u0e14\", \"\\u0e0a\\u0e38\\u0e14\", \"\\u0e0a\\u0e38\\u0e14\", \"\\u0e0b\\u0e36\", \"\\u0e0b\\u0e38\\u0e1b\", \"\\u0e0b\\u0e38\\u0e1b\", \"\\u0e0b\\u0e38\\u0e1b\", \"\\u0e0b\\u0e38\\u0e1b\", \"\\u0e0b\\u0e39\\u0e0a\\u0e34\", \"\\u0e0b\\u0e39\\u0e0a\\u0e34\", \"\\u0e0b\\u0e39\\u0e0a\\u0e34\", \"\\u0e0d\\u0e35\\u0e48\\u0e1b\\u0e38\\u0e48\\u0e19\", \"\\u0e0d\\u0e35\\u0e48\\u0e1b\\u0e38\\u0e48\\u0e19\", \"\\u0e0d\\u0e35\\u0e48\\u0e1b\\u0e38\\u0e48\\u0e19\", \"\\u0e14\\u0e33\", \"\\u0e14\\u0e33\", \"\\u0e14\\u0e33\", \"\\u0e14\\u0e35\", \"\\u0e14\\u0e35\", \"\\u0e14\\u0e35\", \"\\u0e14\\u0e35\", \"\\u0e14\\u0e35\\u0e21\\u0e32\\u0e01\", \"\\u0e14\\u0e35\\u0e21\\u0e32\\u0e01\", \"\\u0e14\\u0e35\\u0e21\\u0e32\\u0e01\", \"\\u0e14\\u0e35\\u0e21\\u0e32\\u0e01\", \"\\u0e14\\u0e39\", \"\\u0e14\\u0e39\", \"\\u0e14\\u0e39\", \"\\u0e15\\u0e2d\\u0e19\\u0e17\\u0e35\\u0e48\", \"\\u0e15\\u0e31\\u0e14\\u0e2a\\u0e34\\u0e19\\u0e43\\u0e08\", \"\\u0e15\\u0e31\\u0e27\", \"\\u0e15\\u0e31\\u0e49\\u0e07\\u0e2d\\u0e22\\u0e39\\u0e48\", \"\\u0e15\\u0e33\", \"\\u0e15\\u0e48\\u0e32\\u0e07 \\u0e46\", \"\\u0e15\\u0e49\\u0e2d\\u0e07\\u0e01\\u0e32\\u0e23\", \"\\u0e16\\u0e32\\u0e14\", \"\\u0e17\\u0e2d\\u0e14\", \"\\u0e17\\u0e2d\\u0e14\", \"\\u0e17\\u0e2d\\u0e14\", \"\\u0e17\\u0e31\\u0e48\\u0e27\\u0e16\\u0e36\\u0e07\", \"\\u0e17\\u0e31\\u0e48\\u0e27\\u0e44\\u0e1b\", \"\\u0e17\\u0e32\\u0e19\", \"\\u0e17\\u0e32\\u0e19\", \"\\u0e17\\u0e32\\u0e19\", \"\\u0e17\\u0e32\\u0e19\", \"\\u0e19\\u0e31\\u0e48\\u0e07\", \"\\u0e19\\u0e31\\u0e48\\u0e07\", \"\\u0e19\\u0e31\\u0e48\\u0e07\", \"\\u0e19\\u0e32\\u0e17\\u0e35\", \"\\u0e19\\u0e34\\u0e14\\u0e19\\u0e36\\u0e07\", \"\\u0e19\\u0e36\\u0e01\\u0e16\\u0e36\\u0e07\", \"\\u0e19\\u0e38\\u0e48\\u0e21\", \"\\u0e19\\u0e38\\u0e48\\u0e21\", \"\\u0e19\\u0e38\\u0e48\\u0e21\", \"\\u0e19\\u0e38\\u0e48\\u0e21\", \"\\u0e19\\u0e49\\u0e33\", \"\\u0e19\\u0e49\\u0e33\", \"\\u0e19\\u0e49\\u0e33\", \"\\u0e19\\u0e49\\u0e33\", \"\\u0e19\\u0e49\\u0e33\\u0e08\\u0e34\\u0e49\\u0e21\", \"\\u0e19\\u0e49\\u0e33\\u0e08\\u0e34\\u0e49\\u0e21\", \"\\u0e19\\u0e49\\u0e33\\u0e08\\u0e34\\u0e49\\u0e21\", \"\\u0e19\\u0e4d\\u0e49\\u0e32\", \"\\u0e1a\", \"\\u0e1a\\u0e23\\u0e34\\u0e01\\u0e32\\u0e23\", \"\\u0e1a\\u0e23\\u0e34\\u0e01\\u0e32\\u0e23\", \"\\u0e1a\\u0e23\\u0e34\\u0e01\\u0e32\\u0e23\", \"\\u0e1a\\u0e32\\u0e07\\u0e2a\\u0e48\\u0e27\\u0e19\", \"\\u0e1a\\u0e32\\u0e17\", \"\\u0e1a\\u0e32\\u0e17\", \"\\u0e1a\\u0e32\\u0e17\", \"\\u0e1a\\u0e32\\u0e17\", \"\\u0e1a\\u0e38\", \"\\u0e1a\\u0e38\", \"\\u0e1a\\u0e38\", \"\\u0e1a\\u0e38\", \"\\u0e1a\\u0e38\\u0e1f\\u0e40\\u0e1f\\u0e15\\u0e4c\", \"\\u0e1a\\u0e38\\u0e1f\\u0e40\\u0e1f\\u0e48\\u0e15\\u0e4c\", \"\\u0e1a\\u0e38\\u0e1f\\u0e40\\u0e1f\\u0e48\\u0e15\\u0e4c\", \"\\u0e1a\\u0e38\\u0e1f\\u0e40\\u0e1f\\u0e48\\u0e15\\u0e4c\", \"\\u0e1a\\u0e38\\u0e1f\\u0e40\\u0e1f\\u0e48\\u0e15\\u0e4c\", \"\\u0e1a\\u0e4a\\u0e27\\u0e22\", \"\\u0e1b\\u0e23\\u0e30\\u0e15\\u0e39\", \"\\u0e1b\\u0e23\\u0e30\\u0e17\\u0e31\\u0e1a\\u0e43\\u0e08\", \"\\u0e1b\\u0e38\\u0e23\\u0e30\", \"\\u0e1b\\u0e38\\u0e23\\u0e30\", \"\\u0e1b\\u0e38\\u0e23\\u0e30\", \"\\u0e1c\\u0e31\\u0e01\", \"\\u0e1c\\u0e31\\u0e01\", \"\\u0e1c\\u0e31\\u0e01\", \"\\u0e1c\\u0e31\\u0e01\", \"\\u0e1c\\u0e34\\u0e14\\u0e2b\\u0e27\\u0e31\\u0e07\", \"\\u0e1e\\u0e19\\u0e31\\u0e01\\u0e07\\u0e32\\u0e19\", \"\\u0e1e\\u0e19\\u0e31\\u0e01\\u0e07\\u0e32\\u0e19\", \"\\u0e1e\\u0e19\\u0e31\\u0e01\\u0e07\\u0e32\\u0e19\", \"\\u0e1e\\u0e19\\u0e31\\u0e01\\u0e07\\u0e32\\u0e19\", \"\\u0e1e\\u0e2d\\u0e19\", \"\\u0e1e\\u0e34\\u0e0b\\u0e0b\\u0e48\\u0e32\", \"\\u0e1e\\u0e34\\u0e0b\\u0e0b\\u0e48\\u0e32\", \"\\u0e1e\\u0e34\\u0e0b\\u0e0b\\u0e48\\u0e32\", \"\\u0e1e\\u0e34\\u0e0b\\u0e0b\\u0e48\\u0e32\", \"\\u0e1f\\u0e40\\u0e1f\", \"\\u0e1f\\u0e40\\u0e1f\\u0e48\", \"\\u0e1f\\u0e40\\u0e1f\\u0e48\", \"\\u0e1f\\u0e40\\u0e1f\\u0e48\", \"\\u0e1f\\u0e40\\u0e1f\\u0e48\", \"\\u0e21\", \"\\u0e21\", \"\\u0e21\\u0e35\\u0e48\", \"\\u0e22\\u0e38\", \"\\u0e23\\u0e2a\", \"\\u0e23\\u0e2a\", \"\\u0e23\\u0e2a\", \"\\u0e23\\u0e2a\", \"\\u0e23\\u0e2a\\u0e0a\\u0e32\\u0e15\\u0e34\", \"\\u0e23\\u0e2a\\u0e0a\\u0e32\\u0e15\\u0e34\", \"\\u0e23\\u0e2a\\u0e0a\\u0e32\\u0e15\\u0e34\", \"\\u0e23\\u0e2a\\u0e0a\\u0e32\\u0e15\\u0e34\", \"\\u0e23\\u0e2d\", \"\\u0e23\\u0e30\\u0e1a\\u0e1a\", \"\\u0e23\\u0e32\\u0e04\\u0e32\", \"\\u0e23\\u0e32\\u0e04\\u0e32\", \"\\u0e23\\u0e32\\u0e04\\u0e32\", \"\\u0e23\\u0e32\\u0e04\\u0e32\", \"\\u0e23\\u0e35\\u0e27\\u0e34\\u0e27\", \"\\u0e23\\u0e49\\u0e2d\\u0e19\", \"\\u0e25\\u0e2d\\u0e07\", \"\\u0e25\\u0e2d\\u0e07\", \"\\u0e25\\u0e2d\\u0e07\", \"\\u0e25\\u0e38\\u0e22\", \"\\u0e2a\\u0e14\", \"\\u0e2a\\u0e14\", \"\\u0e2a\\u0e14\", \"\\u0e2a\\u0e27\\u0e31\\u0e2a\\u0e14\\u0e35\", \"\\u0e2a\\u0e31\\u0e48\\u0e07\", \"\\u0e2a\\u0e31\\u0e48\\u0e07\", \"\\u0e2a\\u0e31\\u0e48\\u0e07\", \"\\u0e2a\\u0e31\\u0e48\\u0e07\", \"\\u0e2a\\u0e32\\u0e02\\u0e32\", \"\\u0e2a\\u0e32\\u0e02\\u0e32\", \"\\u0e2a\\u0e32\\u0e02\\u0e32\", \"\\u0e2a\\u0e32\\u0e02\\u0e32\", \"\\u0e2a\\u0e32\\u0e22\\u0e1e\\u0e32\\u0e19\", \"\\u0e2a\\u0e32\\u0e22\\u0e1e\\u0e32\\u0e19\", \"\\u0e2a\\u0e32\\u0e22\\u0e1e\\u0e32\\u0e19\", \"\\u0e2a\\u0e33\\u0e2b\\u0e23\\u0e31\\u0e1a\", \"\\u0e2a\\u0e33\\u0e2b\\u0e23\\u0e31\\u0e1a\", \"\\u0e2a\\u0e33\\u0e2b\\u0e23\\u0e31\\u0e1a\", \"\\u0e2a\\u0e38\\u0e01\\u0e35\\u0e49\", \"\\u0e2a\\u0e38\\u0e01\\u0e35\\u0e49\\u0e22\\u0e32\\u0e01\\u0e35\\u0e49\", \"\\u0e2a\\u0e44\\u0e25\\u0e14\\u0e4c\", \"\\u0e2a\\u0e44\\u0e25\\u0e14\\u0e4c\", \"\\u0e2b\\u0e19\\u0e49\\u0e32\", \"\\u0e2b\\u0e19\\u0e49\\u0e32\", \"\\u0e2b\\u0e19\\u0e49\\u0e32\", \"\\u0e2b\\u0e21\\u0e39\", \"\\u0e2b\\u0e21\\u0e39\", \"\\u0e2b\\u0e21\\u0e39\", \"\\u0e2b\\u0e21\\u0e39\", \"\\u0e2b\\u0e25\\u0e32\\u0e01\\u0e2b\\u0e25\\u0e32\\u0e22\", \"\\u0e2b\\u0e27\\u0e32\\u0e19\", \"\\u0e2b\\u0e27\\u0e32\\u0e19\", \"\\u0e2b\\u0e27\\u0e32\\u0e19\", \"\\u0e2b\\u0e49\\u0e32\\u0e07\", \"\\u0e2d\\u0e22\\u0e48\\u0e32\", \"\\u0e2d\\u0e23\\u0e48\\u0e2d\\u0e22\", \"\\u0e2d\\u0e23\\u0e48\\u0e2d\\u0e22\", \"\\u0e2d\\u0e23\\u0e48\\u0e2d\\u0e22\", \"\\u0e2d\\u0e23\\u0e48\\u0e2d\\u0e22\", \"\\u0e2d\\u0e2d\\u0e2a\\u0e40\\u0e15\\u0e23\\u0e40\\u0e25\\u0e35\\u0e22\", \"\\u0e2d\\u0e32\\u0e2b\\u0e32\\u0e23\", \"\\u0e2d\\u0e32\\u0e2b\\u0e32\\u0e23\", \"\\u0e2d\\u0e32\\u0e2b\\u0e32\\u0e23\", \"\\u0e2d\\u0e32\\u0e2b\\u0e32\\u0e23\", \"\\u0e2d\\u0e34\\u0e48\\u0e21\", \"\\u0e40\\u0e01\\u0e34\\u0e19\\u0e44\\u0e1b\", \"\\u0e40\\u0e01\\u0e49\", \"\\u0e40\\u0e04\\u0e47\\u0e21\", \"\\u0e40\\u0e14\\u0e2d\\u0e30\", \"\\u0e40\\u0e14\\u0e2d\\u0e30\", \"\\u0e40\\u0e14\\u0e2d\\u0e30\", \"\\u0e40\\u0e14\\u0e47\\u0e01\", \"\\u0e40\\u0e15\\u0e34\\u0e21\", \"\\u0e40\\u0e17\", \"\\u0e40\\u0e17\", \"\\u0e40\\u0e17\", \"\\u0e40\\u0e17\\u0e35\\u0e22\\u0e1a\", \"\\u0e40\\u0e19\\u0e37\\u0e49\\u0e2d\", \"\\u0e40\\u0e19\\u0e37\\u0e49\\u0e2d\", \"\\u0e40\\u0e19\\u0e37\\u0e49\\u0e2d\", \"\\u0e40\\u0e19\\u0e37\\u0e49\\u0e2d\", \"\\u0e40\\u0e19\\u0e37\\u0e49\\u0e2d\\u0e27\\u0e31\\u0e27\", \"\\u0e40\\u0e19\\u0e37\\u0e49\\u0e2d\\u0e27\\u0e31\\u0e27\", \"\\u0e40\\u0e19\\u0e37\\u0e49\\u0e2d\\u0e27\\u0e31\\u0e27\", \"\\u0e40\\u0e19\\u0e37\\u0e49\\u0e2d\\u0e2b\\u0e21\\u0e39\", \"\\u0e40\\u0e1a\", \"\\u0e40\\u0e1b\\u0e47\\u0e14\", \"\\u0e40\\u0e1b\\u0e47\\u0e14\", \"\\u0e40\\u0e1b\\u0e47\\u0e14\", \"\\u0e40\\u0e1b\\u0e47\\u0e19\\u0e1b\\u0e01\\u0e15\\u0e34\", \"\\u0e40\\u0e1f\\u0e23\\u0e19\\u0e44\\u0e0a\\u0e2a\\u0e4c\", \"\\u0e40\\u0e21\\u0e19\\u0e39\", \"\\u0e40\\u0e21\\u0e19\\u0e39\", \"\\u0e40\\u0e21\\u0e19\\u0e39\", \"\\u0e40\\u0e25\\u0e34\\u0e01\", \"\\u0e40\\u0e25\\u0e37\\u0e2d\\u0e01\", \"\\u0e40\\u0e25\\u0e37\\u0e2d\\u0e01\", \"\\u0e40\\u0e25\\u0e37\\u0e2d\\u0e01\", \"\\u0e40\\u0e25\\u0e37\\u0e2d\\u0e01\", \"\\u0e40\\u0e27\\u0e25\\u0e32\", \"\\u0e40\\u0e27\\u0e25\\u0e32\", \"\\u0e40\\u0e2a\\u0e34\\u0e23\\u0e4c\\u0e1f\", \"\\u0e40\\u0e2b\\u0e47\\u0e14\", \"\\u0e41\\u0e19\\u0e27\", \"\\u0e41\\u0e19\\u0e30\\u0e19\\u0e33\", \"\\u0e41\\u0e19\\u0e30\\u0e19\\u0e33\", \"\\u0e41\\u0e19\\u0e30\\u0e19\\u0e33\", \"\\u0e41\\u0e19\\u0e30\\u0e19\\u0e33\", \"\\u0e41\\u0e1a\\u0e1a\\u0e19\\u0e35\\u0e49\", \"\\u0e41\\u0e1b\\u0e25\\u0e01\", \"\\u0e41\\u0e1e\\u0e07\", \"\\u0e41\\u0e1f\\u0e19\", \"\\u0e41\\u0e25\\u0e49\\u0e27\\u0e01\\u0e47\", \"\\u0e42\\u0e0a\", \"\\u0e42\\u0e1b\\u0e23\\u0e42\\u0e21\\u0e0a\\u0e31\\u0e48\\u0e19\", \"\\u0e42\\u0e1b\\u0e23\\u0e42\\u0e21\\u0e0a\\u0e31\\u0e48\\u0e19\", \"\\u0e42\\u0e1b\\u0e23\\u0e42\\u0e21\\u0e0a\\u0e31\\u0e48\\u0e19\", \"\\u0e42\\u0e21\", \"\\u0e42\\u0e21\", \"\\u0e42\\u0e21\", \"\\u0e42\\u0e21\\u0e48\", \"\\u0e43\\u0e0a\\u0e49\\u0e44\\u0e14\\u0e49\", \"\\u0e43\\u0e2a\\u0e48\\u0e43\\u0e08\", \"\\u0e44\\u0e01\\u0e48\", \"\\u0e44\\u0e01\\u0e48\", \"\\u0e44\\u0e01\\u0e48\", \"\\u0e44\\u0e01\\u0e48\", \"\\u0e44\\u0e02\\u0e48\\u0e44\\u0e01\\u0e48\", \"\\u0e44\\u0e14\\u0e1f\\u0e39\\u0e01\\u0e38\", \"\\u0e44\\u0e14\\u0e49\\u0e01\\u0e25\\u0e34\\u0e48\\u0e19\", \"\\u0e44\\u0e1c\\u0e48\", \"\\u0e44\\u0e21\\u0e49\", \"\\u0e44\\u0e25\\u0e19\\u0e4c\", \"\\u0e44\\u0e2d\\u0e15\\u0e34\\u0e21\", \"\\u0e44\\u0e2d\\u0e15\\u0e34\\u0e21\", \"\\u0e44\\u0e2d\\u0e15\\u0e34\\u0e21\", \"\\u0e44\\u0e2d\\u0e15\\u0e34\\u0e21\", \"\\u0e44\\u0e2d\\u0e28\\u0e01\\u0e23\\u0e35\\u0e21\", \"\\u0e44\\u0e2d\\u0e28\\u0e04\\u0e23\\u0e35\\u0e21\", \"\\u200b\", \"\\u200b\", \"\\u200b\"]}, \"R\": 30, \"lambda.step\": 0.01, \"plot.opts\": {\"xlab\": \"PC1\", \"ylab\": \"PC2\"}, \"topic.order\": [2, 3, 1, 4]};\n",
              "\n",
              "function LDAvis_load_lib(url, callback){\n",
              "  var s = document.createElement('script');\n",
              "  s.src = url;\n",
              "  s.async = true;\n",
              "  s.onreadystatechange = s.onload = callback;\n",
              "  s.onerror = function(){console.warn(\"failed to load library \" + url);};\n",
              "  document.getElementsByTagName(\"head\")[0].appendChild(s);\n",
              "}\n",
              "\n",
              "if(typeof(LDAvis) !== \"undefined\"){\n",
              "   // already loaded: just create the visualization\n",
              "   !function(LDAvis){\n",
              "       new LDAvis(\"#\" + \"ldavis_el21971404810747737129026247199\", ldavis_el21971404810747737129026247199_data);\n",
              "   }(LDAvis);\n",
              "}else if(typeof define === \"function\" && define.amd){\n",
              "   // require.js is available: use it to load d3/LDAvis\n",
              "   require.config({paths: {d3: \"https://d3js.org/d3.v5\"}});\n",
              "   require([\"d3\"], function(d3){\n",
              "      window.d3 = d3;\n",
              "      LDAvis_load_lib(\"https://cdn.jsdelivr.net/gh/bmabey/pyLDAvis@3.3.1/pyLDAvis/js/ldavis.v3.0.0.js\", function(){\n",
              "        new LDAvis(\"#\" + \"ldavis_el21971404810747737129026247199\", ldavis_el21971404810747737129026247199_data);\n",
              "      });\n",
              "    });\n",
              "}else{\n",
              "    // require.js not available: dynamically load d3 & LDAvis\n",
              "    LDAvis_load_lib(\"https://d3js.org/d3.v5.js\", function(){\n",
              "         LDAvis_load_lib(\"https://cdn.jsdelivr.net/gh/bmabey/pyLDAvis@3.3.1/pyLDAvis/js/ldavis.v3.0.0.js\", function(){\n",
              "                 new LDAvis(\"#\" + \"ldavis_el21971404810747737129026247199\", ldavis_el21971404810747737129026247199_data);\n",
              "            })\n",
              "         });\n",
              "}\n",
              "</script>"
            ],
            "text/plain": [
              "PreparedData(topic_coordinates=              x         y  topics  cluster       Freq\n",
              "topic                                                \n",
              "1      0.052119  0.002546       1        1  43.847461\n",
              "2     -0.019496 -0.031722       2        1  25.663487\n",
              "0     -0.027791  0.026576       3        1  21.467129\n",
              "3     -0.004831  0.002601       4        1   9.021924, topic_info=      Term       Freq      Total Category  logprob  loglift\n",
              "17     น้ำ  23.000000  23.000000  Default  30.0000  30.0000\n",
              "31   อร่อย  20.000000  20.000000  Default  29.0000  29.0000\n",
              "145  เลือก  17.000000  17.000000  Default  28.0000  28.0000\n",
              "48       ​   7.000000   7.000000  Default  27.0000  27.0000\n",
              "10     ซุป  15.000000  15.000000  Default  26.0000  26.0000\n",
              "..     ...        ...        ...      ...      ...      ...\n",
              "114   นุ่ม   0.689943   6.916118   Topic4  -5.1845   0.1005\n",
              "122     รส   0.659083   6.227193   Topic4  -5.2303   0.1597\n",
              "75    สาขา   0.760263  12.182056   Topic4  -5.0875  -0.3685\n",
              "49           0.697246   9.752635   Topic4  -5.1740  -0.2326\n",
              "8     คุ้ม   0.687661   9.859270   Topic4  -5.1879  -0.2574\n",
              "\n",
              "[277 rows x 6 columns], token_table=      Topic      Freq     Term\n",
              "term                          \n",
              "49        1  0.205073         \n",
              "49        2  0.307609         \n",
              "49        3  0.307609         \n",
              "49        4  0.102536         \n",
              "0         1  0.515925        1\n",
              "...     ...       ...      ...\n",
              "175       1  0.706274  ไอศกรีม\n",
              "258       3  0.996997  ไอศครีม\n",
              "48        1  0.142413        ​\n",
              "48        2  0.712063        ​\n",
              "48        3  0.142413        ​\n",
              "\n",
              "[319 rows x 3 columns], R=30, lambda_step=0.01, plot_opts={'xlab': 'PC1', 'ylab': 'PC2'}, topic_order=[2, 3, 1, 4])"
            ]
          },
          "metadata": {
            "tags": []
          },
          "execution_count": 43
        }
      ]
    },
    {
      "cell_type": "code",
      "metadata": {
        "id": "6tUB6jTuumuc"
      },
      "source": [
        "def convert_to_keyword(x):\n",
        "  new_x = str(unique_word[x])\n",
        "  return new_x\n",
        "\n",
        "\n",
        "def convert_to_topic(x):\n",
        "  new_x = [i[0] for i in x]\n",
        "  return new_x"
      ],
      "execution_count": 44,
      "outputs": []
    },
    {
      "cell_type": "markdown",
      "metadata": {
        "id": "-Nhitri1uzlK"
      },
      "source": [
        "**Review word in each topic**"
      ]
    },
    {
      "cell_type": "code",
      "metadata": {
        "id": "KwvMjfSrrHU0",
        "colab": {
          "base_uri": "https://localhost:8080/"
        },
        "outputId": "ba5ed894-4ed0-425f-b586-150c53edc1b2"
      },
      "source": [
        "list_topic = list()\n",
        "list_topic.clear()\n",
        "for i in range(0,num_topics):\n",
        "  print('topic:',i)\n",
        "  list_topic.append(set(convert_to_topic(model.show_topic(i,20))))\n",
        "  print(list_topic[i])"
      ],
      "execution_count": 45,
      "outputs": [
        {
          "output_type": "stream",
          "text": [
            "topic: 0\n",
            "{'', 'ดำ', 'เนื้อ', 'สั่ง', 'ไอติม', '2', 'เลือก', 'ทาน', 'ชอบ', 'กิน', 'ดี', 'ซุป', 'บาท', 'รสชาติ', 'อร่อย', 'ชาบู', 'อาหาร', 'น้ำจิ้ม', 'น้ำ', 'ราคา'}\n",
            "topic: 1\n",
            "{'กุ้ง', 'เนื้อ', 'คน', 'สด', 'ปุระ', 'สาขา', 'เลือก', 'ม', 'ทาน', 'กิน', 'ดี', 'บาท', 'ชิ', 'รสชาติ', 'อร่อย', 'ชาบู', 'อาหาร', 'เท', 'น้ำ', 'ราคา'}\n",
            "topic: 2\n",
            "{'', 'เนื้อ', 'สั่ง', 'สาขา', 'เลือก', 'บริการ', 'ทาน', 'กิน', 'ดี', 'ซุป', 'บาท', 'รสชาติ', 'อร่อย', 'ชาบู', 'อาหาร', 'คุ้ม', 'ลอง', 'น้ำ', '\\u200b', 'ราคา'}\n",
            "topic: 3\n",
            "{'ของหวาน', 'เนื้อ', 'ไอติม', 'สาขา', 'เลือก', 'ทาน', 'ชอบ', 'กิน', 'ดี', 'ซุป', 'บาท', 'บุ', 'รสชาติ', 'อร่อย', 'ชาบู', 'บุฟเฟ่ต์', 'อาหาร', 'คนละ', 'น้ำ', 'ราคา'}\n"
          ],
          "name": "stdout"
        }
      ]
    },
    {
      "cell_type": "markdown",
      "metadata": {
        "id": "oOeECWj7w56f"
      },
      "source": [
        "**Unique keyword in each topic**"
      ]
    },
    {
      "cell_type": "code",
      "metadata": {
        "colab": {
          "base_uri": "https://localhost:8080/"
        },
        "id": "LBi-mAyJvdyZ",
        "outputId": "eb166d1b-8aec-403f-bad6-b579cd38e5f2"
      },
      "source": [
        "unique_word = list()\n",
        "unique_word.clear()\n",
        "for i in range(0,num_topics):\n",
        "  a = list_topic[i]\n",
        "  b = set()\n",
        "  for j in range(0,num_topics):\n",
        "    if i != j:\n",
        "      b = b.union(list_topic[j])\n",
        "  a = a-b\n",
        "  unique_word.append(list(a))\n",
        "\n",
        "print(unique_word)"
      ],
      "execution_count": 47,
      "outputs": [
        {
          "output_type": "stream",
          "text": [
            "[['ดำ', '2', 'น้ำจิ้ม'], ['กุ้ง', 'เท', 'ชิ', 'คน', 'ม', 'สด', 'ปุระ'], ['\\u200b', 'คุ้ม', 'ลอง', 'บริการ'], ['บุ', 'ของหวาน', 'คนละ', 'บุฟเฟ่ต์']]\n"
          ],
          "name": "stdout"
        }
      ]
    },
    {
      "cell_type": "code",
      "metadata": {
        "colab": {
          "base_uri": "https://localhost:8080/"
        },
        "id": "TUFQE4yBDvd9",
        "outputId": "4466d93b-190a-4bd8-d914-64256e4af963"
      },
      "source": [
        "d = list_topic[0]\n",
        "print(d)\n",
        "for i in range(1,num_topics):\n",
        "  # print(list_topic[i])\n",
        "  d = d.intersection(list_topic[i])\n",
        "  print(i,d)"
      ],
      "execution_count": 48,
      "outputs": [
        {
          "output_type": "stream",
          "text": [
            "{'', 'ดำ', 'เนื้อ', 'สั่ง', 'ไอติม', '2', 'เลือก', 'ทาน', 'ชอบ', 'กิน', 'ดี', 'ซุป', 'บาท', 'รสชาติ', 'อร่อย', 'ชาบู', 'อาหาร', 'น้ำจิ้ม', 'น้ำ', 'ราคา'}\n",
            "1 {'ดี', 'บาท', 'เนื้อ', 'เลือก', 'รสชาติ', 'อร่อย', 'ชาบู', 'น้ำ', 'อาหาร', 'ทาน', 'ราคา', 'กิน'}\n",
            "2 {'ดี', 'บาท', 'เนื้อ', 'เลือก', 'รสชาติ', 'อร่อย', 'ชาบู', 'น้ำ', 'อาหาร', 'ทาน', 'ราคา', 'กิน'}\n",
            "3 {'ดี', 'บาท', 'เนื้อ', 'เลือก', 'รสชาติ', 'อร่อย', 'ชาบู', 'น้ำ', 'อาหาร', 'ทาน', 'ราคา', 'กิน'}\n"
          ],
          "name": "stdout"
        }
      ]
    },
    {
      "cell_type": "code",
      "metadata": {
        "id": "BSPNeUAjujS-"
      },
      "source": [
        "df['topics'] = df['Review_tokenized'].apply(lambda x: model.get_document_topics(dictionary.doc2bow(x.split(',')))[0][0])\n",
        "df['score'] = df['Review_tokenized'].apply(lambda x: model.get_document_topics(dictionary.doc2bow(x.split(',')))[0][1])\n",
        "df['topic_name'] = df['Review_tokenized'].apply(lambda x: model.show_topic(model.get_document_topics(dictionary.doc2bow(x.split(',')))[0][0]))\n",
        "df['topic_name_word'] = df['topic_name'].apply(lambda x:convert_to_topic(x))\n",
        "df['keyword'] = df['topics'].apply(lambda x:convert_to_keyword(x))"
      ],
      "execution_count": 49,
      "outputs": []
    },
    {
      "cell_type": "code",
      "metadata": {
        "id": "gqZjJuheum3D",
        "colab": {
          "base_uri": "https://localhost:8080/",
          "height": 698
        },
        "outputId": "67772199-aa23-40f5-ea2e-f2afd2de6322"
      },
      "source": [
        "df[['Restaurant', 'Review', 'topics','score','topic_name_word','keyword']]"
      ],
      "execution_count": 50,
      "outputs": [
        {
          "output_type": "execute_result",
          "data": {
            "text/html": [
              "<div>\n",
              "<style scoped>\n",
              "    .dataframe tbody tr th:only-of-type {\n",
              "        vertical-align: middle;\n",
              "    }\n",
              "\n",
              "    .dataframe tbody tr th {\n",
              "        vertical-align: top;\n",
              "    }\n",
              "\n",
              "    .dataframe thead th {\n",
              "        text-align: right;\n",
              "    }\n",
              "</style>\n",
              "<table border=\"1\" class=\"dataframe\">\n",
              "  <thead>\n",
              "    <tr style=\"text-align: right;\">\n",
              "      <th></th>\n",
              "      <th>Restaurant</th>\n",
              "      <th>Review</th>\n",
              "      <th>topics</th>\n",
              "      <th>score</th>\n",
              "      <th>topic_name_word</th>\n",
              "      <th>keyword</th>\n",
              "    </tr>\n",
              "  </thead>\n",
              "  <tbody>\n",
              "    <tr>\n",
              "      <th>0</th>\n",
              "      <td>Mo-Mo-Paradise (โม โม พาราไดซ์) เดอะมอลล์ บางกะปิ</td>\n",
              "      <td>ที่สำคัญของร้านนี้คือบริการดีมากพนักงานน่ารักส...</td>\n",
              "      <td>2</td>\n",
              "      <td>0.998652</td>\n",
              "      <td>[อร่อย, น้ำ, กิน, ทาน, ราคา, ​, ซุป, ชาบู, บาท...</td>\n",
              "      <td>['\\u200b', 'คุ้ม', 'ลอง', 'บริการ']</td>\n",
              "    </tr>\n",
              "    <tr>\n",
              "      <th>1</th>\n",
              "      <td>Mo-Mo-Paradise (โม โม พาราไดซ์) เดอะมอลล์ บางกะปิ</td>\n",
              "      <td>นึกถึงชาบูญี่ปุ่นยังไงก็ต้อง คิดถึงโมโม่ พาราไ...</td>\n",
              "      <td>1</td>\n",
              "      <td>0.998113</td>\n",
              "      <td>[ทาน, กิน, ดี, อาหาร, กุ้ง, เนื้อ, ชาบู, ราคา,...</td>\n",
              "      <td>['กุ้ง', 'เท', 'ชิ', 'คน', 'ม', 'สด', 'ปุระ']</td>\n",
              "    </tr>\n",
              "    <tr>\n",
              "      <th>2</th>\n",
              "      <td>Mo-Mo-Paradise (โม โม พาราไดซ์) เดอะมอลล์ บางกะปิ</td>\n",
              "      <td>มาทานช่วงนี้ สามารถนั่งโต๊ะเดียวกัน หม้อเดียวก...</td>\n",
              "      <td>0</td>\n",
              "      <td>0.999233</td>\n",
              "      <td>[น้ำ, ชาบู, เลือก, ทาน, อร่อย, ซุป, เนื้อ, รสช...</td>\n",
              "      <td>['ดำ', '2', 'น้ำจิ้ม']</td>\n",
              "    </tr>\n",
              "    <tr>\n",
              "      <th>3</th>\n",
              "      <td>Mo-Mo-Paradise (โม โม พาราไดซ์) เดอะมอลล์ บางกะปิ</td>\n",
              "      <td>ถ้านึกถึงชาบูที่มีเนื้อเน้นๆ ในราคาไม่โหดจนเกิ...</td>\n",
              "      <td>1</td>\n",
              "      <td>0.997260</td>\n",
              "      <td>[ทาน, กิน, ดี, อาหาร, กุ้ง, เนื้อ, ชาบู, ราคา,...</td>\n",
              "      <td>['กุ้ง', 'เท', 'ชิ', 'คน', 'ม', 'สด', 'ปุระ']</td>\n",
              "    </tr>\n",
              "    <tr>\n",
              "      <th>4</th>\n",
              "      <td>Mo-Mo-Paradise (โม โม พาราไดซ์) เดอะมอลล์ บางกะปิ</td>\n",
              "      <td>เดินมาหน้าร้านแล้วได้กลิ่นชาบูหอมมาก ๆ  ประกอบ...</td>\n",
              "      <td>2</td>\n",
              "      <td>0.997476</td>\n",
              "      <td>[อร่อย, น้ำ, กิน, ทาน, ราคา, ​, ซุป, ชาบู, บาท...</td>\n",
              "      <td>['\\u200b', 'คุ้ม', 'ลอง', 'บริการ']</td>\n",
              "    </tr>\n",
              "    <tr>\n",
              "      <th>5</th>\n",
              "      <td>Mo-Mo-Paradise (โม โม พาราไดซ์) เดอะมอลล์ บางกะปิ</td>\n",
              "      <td>ร้านบุฟเฟ่ ชาบูแนวญี่ปุ่น สายเนื้อหมู เนื้อวัว...</td>\n",
              "      <td>0</td>\n",
              "      <td>0.996203</td>\n",
              "      <td>[น้ำ, ชาบู, เลือก, ทาน, อร่อย, ซุป, เนื้อ, รสช...</td>\n",
              "      <td>['ดำ', '2', 'น้ำจิ้ม']</td>\n",
              "    </tr>\n",
              "    <tr>\n",
              "      <th>6</th>\n",
              "      <td>Mo-Mo-Paradise (โม โม พาราไดซ์) เดอะมอลล์ บางกะปิ</td>\n",
              "      <td>Number 20 : โมโม – พาราไดส์ (สาขาเดอะมอลบางกะป...</td>\n",
              "      <td>0</td>\n",
              "      <td>0.998188</td>\n",
              "      <td>[น้ำ, ชาบู, เลือก, ทาน, อร่อย, ซุป, เนื้อ, รสช...</td>\n",
              "      <td>['ดำ', '2', 'น้ำจิ้ม']</td>\n",
              "    </tr>\n",
              "    <tr>\n",
              "      <th>7</th>\n",
              "      <td>Mo-Mo-Paradise (โม โม พาราไดซ์) เดอะมอลล์ บางกะปิ</td>\n",
              "      <td>ร้านชาบูเฟรนไชส์รสชาติดีมากคุ้มค่าเหมาะสมกับรา...</td>\n",
              "      <td>0</td>\n",
              "      <td>0.997762</td>\n",
              "      <td>[น้ำ, ชาบู, เลือก, ทาน, อร่อย, ซุป, เนื้อ, รสช...</td>\n",
              "      <td>['ดำ', '2', 'น้ำจิ้ม']</td>\n",
              "    </tr>\n",
              "    <tr>\n",
              "      <th>8</th>\n",
              "      <td>Shabushi (ชาบูชิ) เดอะมอลล์บางกะปิ ชั้น G</td>\n",
              "      <td>มา านที่ขาบูชิต้องมาตอนหิว ไม่งั้นจะไม่คุ้มนะค...</td>\n",
              "      <td>1</td>\n",
              "      <td>0.997487</td>\n",
              "      <td>[ทาน, กิน, ดี, อาหาร, กุ้ง, เนื้อ, ชาบู, ราคา,...</td>\n",
              "      <td>['กุ้ง', 'เท', 'ชิ', 'คน', 'ม', 'สด', 'ปุระ']</td>\n",
              "    </tr>\n",
              "    <tr>\n",
              "      <th>9</th>\n",
              "      <td>Shabushi (ชาบูชิ) เดอะมอลล์บางกะปิ ชั้น G</td>\n",
              "      <td>ใครชอบกุ้งทอดเทมปุระ แค่กุ้งเทมปุระก็คุ้มแล้ว ...</td>\n",
              "      <td>1</td>\n",
              "      <td>0.998353</td>\n",
              "      <td>[ทาน, กิน, ดี, อาหาร, กุ้ง, เนื้อ, ชาบู, ราคา,...</td>\n",
              "      <td>['กุ้ง', 'เท', 'ชิ', 'คน', 'ม', 'สด', 'ปุระ']</td>\n",
              "    </tr>\n",
              "    <tr>\n",
              "      <th>10</th>\n",
              "      <td>Shabushi (ชาบูชิ) เดอะมอลล์บางกะปิ ชั้น G</td>\n",
              "      <td>กลับมาอัพเดทราคาชาบูชิ ตอนนี้อยู่ที่ 399 บาท n...</td>\n",
              "      <td>1</td>\n",
              "      <td>0.144130</td>\n",
              "      <td>[ทาน, กิน, ดี, อาหาร, กุ้ง, เนื้อ, ชาบู, ราคา,...</td>\n",
              "      <td>['กุ้ง', 'เท', 'ชิ', 'คน', 'ม', 'สด', 'ปุระ']</td>\n",
              "    </tr>\n",
              "    <tr>\n",
              "      <th>11</th>\n",
              "      <td>Shabushi (ชาบูชิ) เดอะมอลล์บางกะปิ ชั้น G</td>\n",
              "      <td>ห่างหายไปนานสำหรับชาบูชิ ตั้งแต่ทางร้านได้ปรับ...</td>\n",
              "      <td>1</td>\n",
              "      <td>0.999587</td>\n",
              "      <td>[ทาน, กิน, ดี, อาหาร, กุ้ง, เนื้อ, ชาบู, ราคา,...</td>\n",
              "      <td>['กุ้ง', 'เท', 'ชิ', 'คน', 'ม', 'สด', 'ปุระ']</td>\n",
              "    </tr>\n",
              "    <tr>\n",
              "      <th>12</th>\n",
              "      <td>Shabushi (ชาบูชิ) เดอะมอลล์บางกะปิ ชั้น G</td>\n",
              "      <td>เมื่อหลายวันก่อนนัดหาข้าวทานกับเดอะแกงค์ และก็...</td>\n",
              "      <td>1</td>\n",
              "      <td>0.998032</td>\n",
              "      <td>[ทาน, กิน, ดี, อาหาร, กุ้ง, เนื้อ, ชาบู, ราคา,...</td>\n",
              "      <td>['กุ้ง', 'เท', 'ชิ', 'คน', 'ม', 'สด', 'ปุระ']</td>\n",
              "    </tr>\n",
              "    <tr>\n",
              "      <th>13</th>\n",
              "      <td>Shabushi (ชาบูชิ) เดอะมอลล์บางกะปิ ชั้น G</td>\n",
              "      <td>บอกตรงๆว่าหลายครั้งที่เลือกจะกินบุฟเฟต์จะต้องอ...</td>\n",
              "      <td>1</td>\n",
              "      <td>0.998562</td>\n",
              "      <td>[ทาน, กิน, ดี, อาหาร, กุ้ง, เนื้อ, ชาบู, ราคา,...</td>\n",
              "      <td>['กุ้ง', 'เท', 'ชิ', 'คน', 'ม', 'สด', 'ปุระ']</td>\n",
              "    </tr>\n",
              "    <tr>\n",
              "      <th>14</th>\n",
              "      <td>Shabushi (ชาบูชิ) เดอะมอลล์บางกะปิ ชั้น G</td>\n",
              "      <td>สวัสดีครับวันนี้จะขอมารีวิวร้านชาบูชิ บุฟเฟขวั...</td>\n",
              "      <td>2</td>\n",
              "      <td>0.997117</td>\n",
              "      <td>[อร่อย, น้ำ, กิน, ทาน, ราคา, ​, ซุป, ชาบู, บาท...</td>\n",
              "      <td>['\\u200b', 'คุ้ม', 'ลอง', 'บริการ']</td>\n",
              "    </tr>\n",
              "    <tr>\n",
              "      <th>15</th>\n",
              "      <td>Shabushi (ชาบูชิ) เดอะมอลล์บางกะปิ ชั้น G</td>\n",
              "      <td>ชาบูชิ สาขาเดอะมอลล์บางกะปิ ตั้งอยู่ประตูหน้าห...</td>\n",
              "      <td>1</td>\n",
              "      <td>0.999014</td>\n",
              "      <td>[ทาน, กิน, ดี, อาหาร, กุ้ง, เนื้อ, ชาบู, ราคา,...</td>\n",
              "      <td>['กุ้ง', 'เท', 'ชิ', 'คน', 'ม', 'สด', 'ปุระ']</td>\n",
              "    </tr>\n",
              "    <tr>\n",
              "      <th>16</th>\n",
              "      <td>ข้าน้อยขอชาบู</td>\n",
              "      <td>หลังจากที่เคยลองสาขายูเนี่ยนมอลล์ไป รอบนี้มาที...</td>\n",
              "      <td>2</td>\n",
              "      <td>0.998766</td>\n",
              "      <td>[อร่อย, น้ำ, กิน, ทาน, ราคา, ​, ซุป, ชาบู, บาท...</td>\n",
              "      <td>['\\u200b', 'คุ้ม', 'ลอง', 'บริการ']</td>\n",
              "    </tr>\n",
              "    <tr>\n",
              "      <th>17</th>\n",
              "      <td>ข้าน้อยขอชาบู</td>\n",
              "      <td>ร้านบุฟเฟ่ต์ที่มีโปรโมชั่นหัวละ199บาท ไม่รวมน้...</td>\n",
              "      <td>3</td>\n",
              "      <td>0.998233</td>\n",
              "      <td>[น้ำ, อร่อย, ทาน, เลือก, ดี, กิน, ซุป, บาท, รา...</td>\n",
              "      <td>['บุ', 'ของหวาน', 'คนละ', 'บุฟเฟ่ต์']</td>\n",
              "    </tr>\n",
              "    <tr>\n",
              "      <th>18</th>\n",
              "      <td>ข้าน้อยขอชาบู</td>\n",
              "      <td>เคยรู้จักร้านนี้จากที่ union mall ไม่เคยได้ลอง...</td>\n",
              "      <td>2</td>\n",
              "      <td>0.997895</td>\n",
              "      <td>[อร่อย, น้ำ, กิน, ทาน, ราคา, ​, ซุป, ชาบู, บาท...</td>\n",
              "      <td>['\\u200b', 'คุ้ม', 'ลอง', 'บริการ']</td>\n",
              "    </tr>\n",
              "    <tr>\n",
              "      <th>19</th>\n",
              "      <td>ข้าน้อยขอชาบู</td>\n",
              "      <td>อร่อยมากค่ะ คุ้มค่าสมราคา บุฟเฟ่หมูผักต่างๆ รว...</td>\n",
              "      <td>3</td>\n",
              "      <td>0.997743</td>\n",
              "      <td>[น้ำ, อร่อย, ทาน, เลือก, ดี, กิน, ซุป, บาท, รา...</td>\n",
              "      <td>['บุ', 'ของหวาน', 'คนละ', 'บุฟเฟ่ต์']</td>\n",
              "    </tr>\n",
              "    <tr>\n",
              "      <th>20</th>\n",
              "      <td>ข้าน้อยขอชาบู</td>\n",
              "      <td>ก็ตามที่เขียนเลยครับ ว่า ถ้าจะจ่ายในราคา 199 บ...</td>\n",
              "      <td>2</td>\n",
              "      <td>0.997272</td>\n",
              "      <td>[อร่อย, น้ำ, กิน, ทาน, ราคา, ​, ซุป, ชาบู, บาท...</td>\n",
              "      <td>['\\u200b', 'คุ้ม', 'ลอง', 'บริการ']</td>\n",
              "    </tr>\n",
              "  </tbody>\n",
              "</table>\n",
              "</div>"
            ],
            "text/plain": [
              "                                           Restaurant  ...                                        keyword\n",
              "0   Mo-Mo-Paradise (โม โม พาราไดซ์) เดอะมอลล์ บางกะปิ  ...            ['\\u200b', 'คุ้ม', 'ลอง', 'บริการ']\n",
              "1   Mo-Mo-Paradise (โม โม พาราไดซ์) เดอะมอลล์ บางกะปิ  ...  ['กุ้ง', 'เท', 'ชิ', 'คน', 'ม', 'สด', 'ปุระ']\n",
              "2   Mo-Mo-Paradise (โม โม พาราไดซ์) เดอะมอลล์ บางกะปิ  ...                         ['ดำ', '2', 'น้ำจิ้ม']\n",
              "3   Mo-Mo-Paradise (โม โม พาราไดซ์) เดอะมอลล์ บางกะปิ  ...  ['กุ้ง', 'เท', 'ชิ', 'คน', 'ม', 'สด', 'ปุระ']\n",
              "4   Mo-Mo-Paradise (โม โม พาราไดซ์) เดอะมอลล์ บางกะปิ  ...            ['\\u200b', 'คุ้ม', 'ลอง', 'บริการ']\n",
              "5   Mo-Mo-Paradise (โม โม พาราไดซ์) เดอะมอลล์ บางกะปิ  ...                         ['ดำ', '2', 'น้ำจิ้ม']\n",
              "6   Mo-Mo-Paradise (โม โม พาราไดซ์) เดอะมอลล์ บางกะปิ  ...                         ['ดำ', '2', 'น้ำจิ้ม']\n",
              "7   Mo-Mo-Paradise (โม โม พาราไดซ์) เดอะมอลล์ บางกะปิ  ...                         ['ดำ', '2', 'น้ำจิ้ม']\n",
              "8           Shabushi (ชาบูชิ) เดอะมอลล์บางกะปิ ชั้น G  ...  ['กุ้ง', 'เท', 'ชิ', 'คน', 'ม', 'สด', 'ปุระ']\n",
              "9           Shabushi (ชาบูชิ) เดอะมอลล์บางกะปิ ชั้น G  ...  ['กุ้ง', 'เท', 'ชิ', 'คน', 'ม', 'สด', 'ปุระ']\n",
              "10          Shabushi (ชาบูชิ) เดอะมอลล์บางกะปิ ชั้น G  ...  ['กุ้ง', 'เท', 'ชิ', 'คน', 'ม', 'สด', 'ปุระ']\n",
              "11          Shabushi (ชาบูชิ) เดอะมอลล์บางกะปิ ชั้น G  ...  ['กุ้ง', 'เท', 'ชิ', 'คน', 'ม', 'สด', 'ปุระ']\n",
              "12          Shabushi (ชาบูชิ) เดอะมอลล์บางกะปิ ชั้น G  ...  ['กุ้ง', 'เท', 'ชิ', 'คน', 'ม', 'สด', 'ปุระ']\n",
              "13          Shabushi (ชาบูชิ) เดอะมอลล์บางกะปิ ชั้น G  ...  ['กุ้ง', 'เท', 'ชิ', 'คน', 'ม', 'สด', 'ปุระ']\n",
              "14          Shabushi (ชาบูชิ) เดอะมอลล์บางกะปิ ชั้น G  ...            ['\\u200b', 'คุ้ม', 'ลอง', 'บริการ']\n",
              "15          Shabushi (ชาบูชิ) เดอะมอลล์บางกะปิ ชั้น G  ...  ['กุ้ง', 'เท', 'ชิ', 'คน', 'ม', 'สด', 'ปุระ']\n",
              "16                                      ข้าน้อยขอชาบู  ...            ['\\u200b', 'คุ้ม', 'ลอง', 'บริการ']\n",
              "17                                      ข้าน้อยขอชาบู  ...          ['บุ', 'ของหวาน', 'คนละ', 'บุฟเฟ่ต์']\n",
              "18                                      ข้าน้อยขอชาบู  ...            ['\\u200b', 'คุ้ม', 'ลอง', 'บริการ']\n",
              "19                                      ข้าน้อยขอชาบู  ...          ['บุ', 'ของหวาน', 'คนละ', 'บุฟเฟ่ต์']\n",
              "20                                      ข้าน้อยขอชาบู  ...            ['\\u200b', 'คุ้ม', 'ลอง', 'บริการ']\n",
              "\n",
              "[21 rows x 6 columns]"
            ]
          },
          "metadata": {
            "tags": []
          },
          "execution_count": 50
        }
      ]
    },
    {
      "cell_type": "markdown",
      "metadata": {
        "id": "qaH1yG35Glrd"
      },
      "source": [
        "**Review result**\n",
        "\n",
        "Common word for every topic e.g. เนื้อ รสชาติ อร่อย ราคา ซุป อาหาร น้ำ\n",
        "\n",
        "Focus on each topic that word differenc from others\n",
        "\n",
        "Topic 0: น้ำจิ้ม น้ำดำ\n",
        "\n",
        "Topic 1: กุ้ง เทมปุระ ซูชิ\n",
        "\n",
        "Topic 2: คุ้ม บริการ\n",
        "\n",
        "Topic 3: ของหวาน บุฟเฟต์"
      ]
    }
  ]
}